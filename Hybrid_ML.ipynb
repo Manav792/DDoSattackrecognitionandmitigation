{
  "cells": [
    {
      "cell_type": "code",
      "execution_count": null,
      "metadata": {
        "id": "F0hogJAwzAOQ"
      },
      "outputs": [],
      "source": [
        "import numpy as np\n",
        "import pandas as pd\n",
        "from sklearn.model_selection import train_test_split\n",
        "from sklearn.preprocessing import StandardScaler\n",
        "from sklearn.preprocessing import LabelEncoder\n",
        "from sklearn.metrics import accuracy_score\n",
        "from sklearn.svm import SVC\n",
        "from sklearn.neighbors import KNeighborsClassifier\n",
        "from sklearn.naive_bayes import GaussianNB\n",
        "from sklearn.ensemble import RandomForestClassifier"
      ]
    },
    {
      "cell_type": "code",
      "execution_count": null,
      "metadata": {
        "colab": {
          "base_uri": "https://localhost:8080/",
          "height": 299
        },
        "id": "yenU__aBzAOY",
        "outputId": "7dd80f3c-d3ef-44f1-fec2-3a5739fb3350"
      },
      "outputs": [
        {
          "data": {
            "text/html": [
              "\n",
              "  <div id=\"df-6eeab041-cd9c-444c-a642-8aae237cd331\">\n",
              "    <div class=\"colab-df-container\">\n",
              "      <div>\n",
              "<style scoped>\n",
              "    .dataframe tbody tr th:only-of-type {\n",
              "        vertical-align: middle;\n",
              "    }\n",
              "\n",
              "    .dataframe tbody tr th {\n",
              "        vertical-align: top;\n",
              "    }\n",
              "\n",
              "    .dataframe thead th {\n",
              "        text-align: right;\n",
              "    }\n",
              "</style>\n",
              "<table border=\"1\" class=\"dataframe\">\n",
              "  <thead>\n",
              "    <tr style=\"text-align: right;\">\n",
              "      <th></th>\n",
              "      <th>SRC_ADD</th>\n",
              "      <th>DES_ADD</th>\n",
              "      <th>PKT_ID</th>\n",
              "      <th>FROM_NODE</th>\n",
              "      <th>TO_NODE</th>\n",
              "      <th>PKT_TYPE</th>\n",
              "      <th>PKT_SIZE</th>\n",
              "      <th>FID</th>\n",
              "      <th>SEQ_NUMBER</th>\n",
              "      <th>NUMBER_OF_PKT</th>\n",
              "      <th>...</th>\n",
              "      <th>PKT_RATE</th>\n",
              "      <th>BYTE_RATE</th>\n",
              "      <th>PKT_AVG_SIZE</th>\n",
              "      <th>UTILIZATION</th>\n",
              "      <th>PKT_DELAY</th>\n",
              "      <th>PKT_SEND_TIME</th>\n",
              "      <th>PKT_RESEVED_TIME</th>\n",
              "      <th>FIRST_PKT_SENT</th>\n",
              "      <th>LAST_PKT_RESEVED</th>\n",
              "      <th>PKT_CLASS</th>\n",
              "    </tr>\n",
              "  </thead>\n",
              "  <tbody>\n",
              "    <tr>\n",
              "      <th>0</th>\n",
              "      <td>3.00</td>\n",
              "      <td>24.30</td>\n",
              "      <td>389693</td>\n",
              "      <td>21</td>\n",
              "      <td>23</td>\n",
              "      <td>tcp</td>\n",
              "      <td>1540</td>\n",
              "      <td>4</td>\n",
              "      <td>11339</td>\n",
              "      <td>16091</td>\n",
              "      <td>...</td>\n",
              "      <td>328.240918</td>\n",
              "      <td>505490.0</td>\n",
              "      <td>1540.0</td>\n",
              "      <td>0.236321</td>\n",
              "      <td>0.0</td>\n",
              "      <td>35.519662</td>\n",
              "      <td>35.550032</td>\n",
              "      <td>1.000000</td>\n",
              "      <td>50.021920</td>\n",
              "      <td>Normal</td>\n",
              "    </tr>\n",
              "    <tr>\n",
              "      <th>1</th>\n",
              "      <td>15.00</td>\n",
              "      <td>24.15</td>\n",
              "      <td>201196</td>\n",
              "      <td>23</td>\n",
              "      <td>24</td>\n",
              "      <td>tcp</td>\n",
              "      <td>1540</td>\n",
              "      <td>16</td>\n",
              "      <td>6274</td>\n",
              "      <td>16092</td>\n",
              "      <td>...</td>\n",
              "      <td>328.205808</td>\n",
              "      <td>505437.0</td>\n",
              "      <td>1540.0</td>\n",
              "      <td>0.236337</td>\n",
              "      <td>0.0</td>\n",
              "      <td>20.156478</td>\n",
              "      <td>20.186848</td>\n",
              "      <td>1.000000</td>\n",
              "      <td>50.030211</td>\n",
              "      <td>Normal</td>\n",
              "    </tr>\n",
              "    <tr>\n",
              "      <th>2</th>\n",
              "      <td>24.15</td>\n",
              "      <td>15.00</td>\n",
              "      <td>61905</td>\n",
              "      <td>23</td>\n",
              "      <td>22</td>\n",
              "      <td>ack</td>\n",
              "      <td>55</td>\n",
              "      <td>16</td>\n",
              "      <td>1930</td>\n",
              "      <td>16092</td>\n",
              "      <td>...</td>\n",
              "      <td>328.206042</td>\n",
              "      <td>18051.3</td>\n",
              "      <td>55.0</td>\n",
              "      <td>0.008441</td>\n",
              "      <td>0.0</td>\n",
              "      <td>7.039952</td>\n",
              "      <td>7.069962</td>\n",
              "      <td>1.030045</td>\n",
              "      <td>50.060221</td>\n",
              "      <td>UDP-Flood</td>\n",
              "    </tr>\n",
              "    <tr>\n",
              "      <th>3</th>\n",
              "      <td>13.00</td>\n",
              "      <td>24.13</td>\n",
              "      <td>368498</td>\n",
              "      <td>22</td>\n",
              "      <td>23</td>\n",
              "      <td>tcp</td>\n",
              "      <td>1540</td>\n",
              "      <td>14</td>\n",
              "      <td>10809</td>\n",
              "      <td>16103</td>\n",
              "      <td>...</td>\n",
              "      <td>328.460131</td>\n",
              "      <td>505828.0</td>\n",
              "      <td>1540.0</td>\n",
              "      <td>0.236498</td>\n",
              "      <td>0.0</td>\n",
              "      <td>33.895548</td>\n",
              "      <td>33.925917</td>\n",
              "      <td>1.000000</td>\n",
              "      <td>50.025737</td>\n",
              "      <td>Normal</td>\n",
              "    </tr>\n",
              "    <tr>\n",
              "      <th>4</th>\n",
              "      <td>14.00</td>\n",
              "      <td>24.14</td>\n",
              "      <td>324931</td>\n",
              "      <td>14</td>\n",
              "      <td>22</td>\n",
              "      <td>tcp</td>\n",
              "      <td>1540</td>\n",
              "      <td>15</td>\n",
              "      <td>9707</td>\n",
              "      <td>16103</td>\n",
              "      <td>...</td>\n",
              "      <td>328.431807</td>\n",
              "      <td>505785.0</td>\n",
              "      <td>1540.0</td>\n",
              "      <td>0.236498</td>\n",
              "      <td>0.0</td>\n",
              "      <td>30.550052</td>\n",
              "      <td>30.580421</td>\n",
              "      <td>1.000000</td>\n",
              "      <td>50.029965</td>\n",
              "      <td>Normal</td>\n",
              "    </tr>\n",
              "  </tbody>\n",
              "</table>\n",
              "<p>5 rows × 27 columns</p>\n",
              "</div>\n",
              "      <button class=\"colab-df-convert\" onclick=\"convertToInteractive('df-6eeab041-cd9c-444c-a642-8aae237cd331')\"\n",
              "              title=\"Convert this dataframe to an interactive table.\"\n",
              "              style=\"display:none;\">\n",
              "        \n",
              "  <svg xmlns=\"http://www.w3.org/2000/svg\" height=\"24px\"viewBox=\"0 0 24 24\"\n",
              "       width=\"24px\">\n",
              "    <path d=\"M0 0h24v24H0V0z\" fill=\"none\"/>\n",
              "    <path d=\"M18.56 5.44l.94 2.06.94-2.06 2.06-.94-2.06-.94-.94-2.06-.94 2.06-2.06.94zm-11 1L8.5 8.5l.94-2.06 2.06-.94-2.06-.94L8.5 2.5l-.94 2.06-2.06.94zm10 10l.94 2.06.94-2.06 2.06-.94-2.06-.94-.94-2.06-.94 2.06-2.06.94z\"/><path d=\"M17.41 7.96l-1.37-1.37c-.4-.4-.92-.59-1.43-.59-.52 0-1.04.2-1.43.59L10.3 9.45l-7.72 7.72c-.78.78-.78 2.05 0 2.83L4 21.41c.39.39.9.59 1.41.59.51 0 1.02-.2 1.41-.59l7.78-7.78 2.81-2.81c.8-.78.8-2.07 0-2.86zM5.41 20L4 18.59l7.72-7.72 1.47 1.35L5.41 20z\"/>\n",
              "  </svg>\n",
              "      </button>\n",
              "      \n",
              "  <style>\n",
              "    .colab-df-container {\n",
              "      display:flex;\n",
              "      flex-wrap:wrap;\n",
              "      gap: 12px;\n",
              "    }\n",
              "\n",
              "    .colab-df-convert {\n",
              "      background-color: #E8F0FE;\n",
              "      border: none;\n",
              "      border-radius: 50%;\n",
              "      cursor: pointer;\n",
              "      display: none;\n",
              "      fill: #1967D2;\n",
              "      height: 32px;\n",
              "      padding: 0 0 0 0;\n",
              "      width: 32px;\n",
              "    }\n",
              "\n",
              "    .colab-df-convert:hover {\n",
              "      background-color: #E2EBFA;\n",
              "      box-shadow: 0px 1px 2px rgba(60, 64, 67, 0.3), 0px 1px 3px 1px rgba(60, 64, 67, 0.15);\n",
              "      fill: #174EA6;\n",
              "    }\n",
              "\n",
              "    [theme=dark] .colab-df-convert {\n",
              "      background-color: #3B4455;\n",
              "      fill: #D2E3FC;\n",
              "    }\n",
              "\n",
              "    [theme=dark] .colab-df-convert:hover {\n",
              "      background-color: #434B5C;\n",
              "      box-shadow: 0px 1px 3px 1px rgba(0, 0, 0, 0.15);\n",
              "      filter: drop-shadow(0px 1px 2px rgba(0, 0, 0, 0.3));\n",
              "      fill: #FFFFFF;\n",
              "    }\n",
              "  </style>\n",
              "\n",
              "      <script>\n",
              "        const buttonEl =\n",
              "          document.querySelector('#df-6eeab041-cd9c-444c-a642-8aae237cd331 button.colab-df-convert');\n",
              "        buttonEl.style.display =\n",
              "          google.colab.kernel.accessAllowed ? 'block' : 'none';\n",
              "\n",
              "        async function convertToInteractive(key) {\n",
              "          const element = document.querySelector('#df-6eeab041-cd9c-444c-a642-8aae237cd331');\n",
              "          const dataTable =\n",
              "            await google.colab.kernel.invokeFunction('convertToInteractive',\n",
              "                                                     [key], {});\n",
              "          if (!dataTable) return;\n",
              "\n",
              "          const docLinkHtml = 'Like what you see? Visit the ' +\n",
              "            '<a target=\"_blank\" href=https://colab.research.google.com/notebooks/data_table.ipynb>data table notebook</a>'\n",
              "            + ' to learn more about interactive tables.';\n",
              "          element.innerHTML = '';\n",
              "          dataTable['output_type'] = 'display_data';\n",
              "          await google.colab.output.renderOutput(dataTable, element);\n",
              "          const docLink = document.createElement('div');\n",
              "          docLink.innerHTML = docLinkHtml;\n",
              "          element.appendChild(docLink);\n",
              "        }\n",
              "      </script>\n",
              "    </div>\n",
              "  </div>\n",
              "  "
            ],
            "text/plain": [
              "   SRC_ADD  DES_ADD  PKT_ID  FROM_NODE  TO_NODE PKT_TYPE  PKT_SIZE  FID  \\\n",
              "0     3.00    24.30  389693         21       23      tcp      1540    4   \n",
              "1    15.00    24.15  201196         23       24      tcp      1540   16   \n",
              "2    24.15    15.00   61905         23       22      ack        55   16   \n",
              "3    13.00    24.13  368498         22       23      tcp      1540   14   \n",
              "4    14.00    24.14  324931         14       22      tcp      1540   15   \n",
              "\n",
              "   SEQ_NUMBER  NUMBER_OF_PKT  ...    PKT_RATE BYTE_RATE PKT_AVG_SIZE  \\\n",
              "0       11339          16091  ...  328.240918  505490.0       1540.0   \n",
              "1        6274          16092  ...  328.205808  505437.0       1540.0   \n",
              "2        1930          16092  ...  328.206042   18051.3         55.0   \n",
              "3       10809          16103  ...  328.460131  505828.0       1540.0   \n",
              "4        9707          16103  ...  328.431807  505785.0       1540.0   \n",
              "\n",
              "   UTILIZATION  PKT_DELAY  PKT_SEND_TIME  PKT_RESEVED_TIME  FIRST_PKT_SENT  \\\n",
              "0     0.236321        0.0      35.519662         35.550032        1.000000   \n",
              "1     0.236337        0.0      20.156478         20.186848        1.000000   \n",
              "2     0.008441        0.0       7.039952          7.069962        1.030045   \n",
              "3     0.236498        0.0      33.895548         33.925917        1.000000   \n",
              "4     0.236498        0.0      30.550052         30.580421        1.000000   \n",
              "\n",
              "   LAST_PKT_RESEVED  PKT_CLASS  \n",
              "0         50.021920     Normal  \n",
              "1         50.030211     Normal  \n",
              "2         50.060221  UDP-Flood  \n",
              "3         50.025737     Normal  \n",
              "4         50.029965     Normal  \n",
              "\n",
              "[5 rows x 27 columns]"
            ]
          },
          "execution_count": 371,
          "metadata": {},
          "output_type": "execute_result"
        }
      ],
      "source": [
        "data = pd.read_csv(\"/content/final-dataset.csv\")\n",
        "data.head()"
      ]
    },
    {
      "cell_type": "code",
      "execution_count": null,
      "metadata": {
        "colab": {
          "base_uri": "https://localhost:8080/"
        },
        "id": "XuNwHCouzAOa",
        "outputId": "d7e2aa56-58a7-497b-9fa4-d348b325aa5d"
      },
      "outputs": [
        {
          "name": "stdout",
          "output_type": "stream",
          "text": [
            "<class 'pandas.core.frame.DataFrame'>\n",
            "RangeIndex: 2968 entries, 0 to 2967\n",
            "Data columns (total 27 columns):\n",
            " #   Column            Non-Null Count  Dtype  \n",
            "---  ------            --------------  -----  \n",
            " 0   SRC_ADD           2968 non-null   float64\n",
            " 1   DES_ADD           2968 non-null   float64\n",
            " 2   PKT_ID            2968 non-null   int64  \n",
            " 3   FROM_NODE         2968 non-null   int64  \n",
            " 4   TO_NODE           2968 non-null   int64  \n",
            " 5   PKT_TYPE          2968 non-null   object \n",
            " 6   PKT_SIZE          2968 non-null   int64  \n",
            " 7   FID               2968 non-null   int64  \n",
            " 8   SEQ_NUMBER        2968 non-null   int64  \n",
            " 9   NUMBER_OF_PKT     2968 non-null   int64  \n",
            " 10  NUMBER_OF_BYTE    2968 non-null   int64  \n",
            " 11  NODE_NAME_FROM    2968 non-null   object \n",
            " 12  NODE_NAME_TO      2968 non-null   object \n",
            " 13  PKT_IN            2968 non-null   float64\n",
            " 14  PKT_OUT           2968 non-null   float64\n",
            " 15  PKT_R             2968 non-null   float64\n",
            " 16  PKT_DELAY_NODE    2968 non-null   float64\n",
            " 17  PKT_RATE          2968 non-null   float64\n",
            " 18  BYTE_RATE         2968 non-null   float64\n",
            " 19  PKT_AVG_SIZE      2968 non-null   float64\n",
            " 20  UTILIZATION       2968 non-null   float64\n",
            " 21  PKT_DELAY         2968 non-null   float64\n",
            " 22  PKT_SEND_TIME     2968 non-null   float64\n",
            " 23  PKT_RESEVED_TIME  2968 non-null   float64\n",
            " 24  FIRST_PKT_SENT    2968 non-null   float64\n",
            " 25  LAST_PKT_RESEVED  2968 non-null   float64\n",
            " 26  PKT_CLASS         2968 non-null   object \n",
            "dtypes: float64(15), int64(8), object(4)\n",
            "memory usage: 626.2+ KB\n"
          ]
        }
      ],
      "source": [
        "data.info()"
      ]
    },
    {
      "cell_type": "code",
      "execution_count": null,
      "metadata": {
        "id": "EQUmeI2w10rK"
      },
      "outputs": [],
      "source": [
        "a = LabelEncoder()\n",
        "for i in data.columns:\n",
        "  if data[i].dtype == 'object':\n",
        "    data[i] = a.fit_transform(data[i])"
      ]
    },
    {
      "cell_type": "code",
      "execution_count": null,
      "metadata": {
        "colab": {
          "base_uri": "https://localhost:8080/"
        },
        "id": "t2iTEOVi2dSY",
        "outputId": "96bc0a44-a9f2-4d33-f0a6-9b205edd73d3"
      },
      "outputs": [
        {
          "name": "stdout",
          "output_type": "stream",
          "text": [
            "<class 'pandas.core.frame.DataFrame'>\n",
            "RangeIndex: 2968 entries, 0 to 2967\n",
            "Data columns (total 27 columns):\n",
            " #   Column            Non-Null Count  Dtype  \n",
            "---  ------            --------------  -----  \n",
            " 0   SRC_ADD           2968 non-null   float64\n",
            " 1   DES_ADD           2968 non-null   float64\n",
            " 2   PKT_ID            2968 non-null   int64  \n",
            " 3   FROM_NODE         2968 non-null   int64  \n",
            " 4   TO_NODE           2968 non-null   int64  \n",
            " 5   PKT_TYPE          2968 non-null   int64  \n",
            " 6   PKT_SIZE          2968 non-null   int64  \n",
            " 7   FID               2968 non-null   int64  \n",
            " 8   SEQ_NUMBER        2968 non-null   int64  \n",
            " 9   NUMBER_OF_PKT     2968 non-null   int64  \n",
            " 10  NUMBER_OF_BYTE    2968 non-null   int64  \n",
            " 11  NODE_NAME_FROM    2968 non-null   int64  \n",
            " 12  NODE_NAME_TO      2968 non-null   int64  \n",
            " 13  PKT_IN            2968 non-null   float64\n",
            " 14  PKT_OUT           2968 non-null   float64\n",
            " 15  PKT_R             2968 non-null   float64\n",
            " 16  PKT_DELAY_NODE    2968 non-null   float64\n",
            " 17  PKT_RATE          2968 non-null   float64\n",
            " 18  BYTE_RATE         2968 non-null   float64\n",
            " 19  PKT_AVG_SIZE      2968 non-null   float64\n",
            " 20  UTILIZATION       2968 non-null   float64\n",
            " 21  PKT_DELAY         2968 non-null   float64\n",
            " 22  PKT_SEND_TIME     2968 non-null   float64\n",
            " 23  PKT_RESEVED_TIME  2968 non-null   float64\n",
            " 24  FIRST_PKT_SENT    2968 non-null   float64\n",
            " 25  LAST_PKT_RESEVED  2968 non-null   float64\n",
            " 26  PKT_CLASS         2968 non-null   int64  \n",
            "dtypes: float64(15), int64(12)\n",
            "memory usage: 626.2 KB\n"
          ]
        }
      ],
      "source": [
        "data.info()"
      ]
    },
    {
      "cell_type": "code",
      "execution_count": null,
      "metadata": {
        "id": "H2q8xfNZzAOb"
      },
      "outputs": [],
      "source": [
        "X = data.drop('PKT_CLASS',axis=1)\n",
        "Y = data['PKT_CLASS']\n",
        "\n",
        "X_train, X_test, Y_train, Y_test = train_test_split(X,Y,test_size=0.2,random_state=0)\n"
      ]
    },
    {
      "cell_type": "code",
      "execution_count": null,
      "metadata": {
        "colab": {
          "base_uri": "https://localhost:8080/"
        },
        "id": "TRfv0WQKzAOc",
        "outputId": "d5dc83bf-d1fd-4597-8ba7-11248a116608"
      },
      "outputs": [
        {
          "name": "stdout",
          "output_type": "stream",
          "text": [
            "2968\n"
          ]
        }
      ],
      "source": [
        "l=len(X)\n",
        "print(l)\n"
      ]
    },
    {
      "cell_type": "code",
      "execution_count": null,
      "metadata": {
        "colab": {
          "base_uri": "https://localhost:8080/"
        },
        "id": "ST8dFDMGzAOd",
        "outputId": "b0b2626d-533d-4a05-b5ca-8c302b9e623c"
      },
      "outputs": [
        {
          "name": "stdout",
          "output_type": "stream",
          "text": [
            "      SRC_ADD  DES_ADD  PKT_ID  FROM_NODE  TO_NODE  PKT_TYPE  PKT_SIZE  FID  \\\n",
            "0        3.00    24.30  389693         21       23         3      1540    4   \n",
            "1       15.00    24.15  201196         23       24         3      1540   16   \n",
            "2       24.15    15.00   61905         23       22         0        55   16   \n",
            "3       13.00    24.13  368498         22       23         3      1540   14   \n",
            "4       14.00    24.14  324931         14       22         3      1540   15   \n",
            "...       ...      ...     ...        ...      ...       ...       ...  ...   \n",
            "2963     3.10    24.23  588738          3       21         1      1000   24   \n",
            "2964    24.40     4.00  471172         21        4         0        55    5   \n",
            "2965    24.00     0.00  425692         23       21         0        55    1   \n",
            "2966    14.20    24.56   32181         14       22         1      1500   35   \n",
            "2967     4.00    24.40  242435          4       21         3      1540    5   \n",
            "\n",
            "      SEQ_NUMBER  NUMBER_OF_PKT  ...  PKT_DELAY_NODE     PKT_RATE  BYTE_RATE  \\\n",
            "0          11339          16091  ...             0.0   328.240918   505490.0   \n",
            "1           6274          16092  ...             0.0   328.205808   505437.0   \n",
            "2           1930          16092  ...             0.0   328.206042    18051.3   \n",
            "3          10809          16103  ...             0.0   328.460131   505828.0   \n",
            "4           9707          16103  ...             0.0   328.431807   505785.0   \n",
            "...          ...            ...  ...             ...          ...        ...   \n",
            "2963        3626           6250  ...             0.0   124.943226   124943.0   \n",
            "2964       13382          16091  ...             0.0   328.218006    18052.0   \n",
            "2965       12238          16091  ...             0.0   328.316229    18057.4   \n",
            "2966        1230           9108  ...             0.0  1016.437200  1524660.0   \n",
            "2967        7566          16091  ...             0.0   328.217832   505455.0   \n",
            "\n",
            "      PKT_AVG_SIZE  UTILIZATION  PKT_DELAY  PKT_SEND_TIME  PKT_RESEVED_TIME  \\\n",
            "0           1540.0     0.236321    0.00000      35.519662         35.550032   \n",
            "1           1540.0     0.236337    0.00000      20.156478         20.186848   \n",
            "2             55.0     0.008441    0.00000       7.039952          7.069962   \n",
            "3           1540.0     0.236498    0.00000      33.895548         33.925917   \n",
            "4           1540.0     0.236498    0.00000      30.550052         30.580421   \n",
            "...            ...          ...        ...            ...               ...   \n",
            "2963        1000.0     0.059605    0.00048      54.008000         54.038720   \n",
            "2964          55.0     0.008440    0.00000      41.768616         41.798626   \n",
            "2965          55.0     0.008440    0.00000      38.281165         38.311175   \n",
            "2966        1500.0     0.130291    0.03096      30.988571         31.019531   \n",
            "2967        1540.0     0.236321    0.00000      24.039396         24.069766   \n",
            "\n",
            "      FIRST_PKT_SENT  LAST_PKT_RESEVED  \n",
            "0           1.000000         50.021920  \n",
            "1           1.000000         50.030211  \n",
            "2           1.030045         50.060221  \n",
            "3           1.000000         50.025737  \n",
            "4           1.000000         50.029965  \n",
            "...              ...               ...  \n",
            "2963       25.000000         75.022720  \n",
            "2964        1.030035         50.055377  \n",
            "2965        1.030010         50.040685  \n",
            "2966        1.000000          9.960711  \n",
            "2967        1.000000         50.025368  \n",
            "\n",
            "[2968 rows x 26 columns]\n",
            "0       1\n",
            "1       1\n",
            "2       4\n",
            "3       1\n",
            "4       1\n",
            "       ..\n",
            "2963    1\n",
            "2964    1\n",
            "2965    1\n",
            "2966    4\n",
            "2967    1\n",
            "Name: PKT_CLASS, Length: 2968, dtype: int64\n"
          ]
        }
      ],
      "source": [
        "print(X)\n",
        "print(Y)"
      ]
    },
    {
      "cell_type": "code",
      "execution_count": null,
      "metadata": {
        "id": "I7YVKHT1zAOg"
      },
      "outputs": [],
      "source": [
        "scaler=StandardScaler()\n",
        "X_train=scaler.fit_transform(X_train)\n",
        "X_test=scaler.transform(X_test)\n",
        "Y_train=np.array(Y_train)\n",
        "Y_test=np.array(Y_test)\n"
      ]
    },
    {
      "cell_type": "code",
      "execution_count": null,
      "metadata": {
        "colab": {
          "base_uri": "https://localhost:8080/",
          "height": 74
        },
        "id": "S31CALjyzAOh",
        "outputId": "98a1ed9c-ca4e-4e7a-f45b-b4a8661f83af"
      },
      "outputs": [
        {
          "data": {
            "text/html": [
              "<style>#sk-container-id-23 {color: black;background-color: white;}#sk-container-id-23 pre{padding: 0;}#sk-container-id-23 div.sk-toggleable {background-color: white;}#sk-container-id-23 label.sk-toggleable__label {cursor: pointer;display: block;width: 100%;margin-bottom: 0;padding: 0.3em;box-sizing: border-box;text-align: center;}#sk-container-id-23 label.sk-toggleable__label-arrow:before {content: \"▸\";float: left;margin-right: 0.25em;color: #696969;}#sk-container-id-23 label.sk-toggleable__label-arrow:hover:before {color: black;}#sk-container-id-23 div.sk-estimator:hover label.sk-toggleable__label-arrow:before {color: black;}#sk-container-id-23 div.sk-toggleable__content {max-height: 0;max-width: 0;overflow: hidden;text-align: left;background-color: #f0f8ff;}#sk-container-id-23 div.sk-toggleable__content pre {margin: 0.2em;color: black;border-radius: 0.25em;background-color: #f0f8ff;}#sk-container-id-23 input.sk-toggleable__control:checked~div.sk-toggleable__content {max-height: 200px;max-width: 100%;overflow: auto;}#sk-container-id-23 input.sk-toggleable__control:checked~label.sk-toggleable__label-arrow:before {content: \"▾\";}#sk-container-id-23 div.sk-estimator input.sk-toggleable__control:checked~label.sk-toggleable__label {background-color: #d4ebff;}#sk-container-id-23 div.sk-label input.sk-toggleable__control:checked~label.sk-toggleable__label {background-color: #d4ebff;}#sk-container-id-23 input.sk-hidden--visually {border: 0;clip: rect(1px 1px 1px 1px);clip: rect(1px, 1px, 1px, 1px);height: 1px;margin: -1px;overflow: hidden;padding: 0;position: absolute;width: 1px;}#sk-container-id-23 div.sk-estimator {font-family: monospace;background-color: #f0f8ff;border: 1px dotted black;border-radius: 0.25em;box-sizing: border-box;margin-bottom: 0.5em;}#sk-container-id-23 div.sk-estimator:hover {background-color: #d4ebff;}#sk-container-id-23 div.sk-parallel-item::after {content: \"\";width: 100%;border-bottom: 1px solid gray;flex-grow: 1;}#sk-container-id-23 div.sk-label:hover label.sk-toggleable__label {background-color: #d4ebff;}#sk-container-id-23 div.sk-serial::before {content: \"\";position: absolute;border-left: 1px solid gray;box-sizing: border-box;top: 0;bottom: 0;left: 50%;z-index: 0;}#sk-container-id-23 div.sk-serial {display: flex;flex-direction: column;align-items: center;background-color: white;padding-right: 0.2em;padding-left: 0.2em;position: relative;}#sk-container-id-23 div.sk-item {position: relative;z-index: 1;}#sk-container-id-23 div.sk-parallel {display: flex;align-items: stretch;justify-content: center;background-color: white;position: relative;}#sk-container-id-23 div.sk-item::before, #sk-container-id-23 div.sk-parallel-item::before {content: \"\";position: absolute;border-left: 1px solid gray;box-sizing: border-box;top: 0;bottom: 0;left: 50%;z-index: -1;}#sk-container-id-23 div.sk-parallel-item {display: flex;flex-direction: column;z-index: 1;position: relative;background-color: white;}#sk-container-id-23 div.sk-parallel-item:first-child::after {align-self: flex-end;width: 50%;}#sk-container-id-23 div.sk-parallel-item:last-child::after {align-self: flex-start;width: 50%;}#sk-container-id-23 div.sk-parallel-item:only-child::after {width: 0;}#sk-container-id-23 div.sk-dashed-wrapped {border: 1px dashed gray;margin: 0 0.4em 0.5em 0.4em;box-sizing: border-box;padding-bottom: 0.4em;background-color: white;}#sk-container-id-23 div.sk-label label {font-family: monospace;font-weight: bold;display: inline-block;line-height: 1.2em;}#sk-container-id-23 div.sk-label-container {text-align: center;}#sk-container-id-23 div.sk-container {/* jupyter's `normalize.less` sets `[hidden] { display: none; }` but bootstrap.min.css set `[hidden] { display: none !important; }` so we also need the `!important` here to be able to override the default hidden behavior on the sphinx rendered scikit-learn.org. See: https://github.com/scikit-learn/scikit-learn/issues/21755 */display: inline-block !important;position: relative;}#sk-container-id-23 div.sk-text-repr-fallback {display: none;}</style><div id=\"sk-container-id-23\" class=\"sk-top-container\"><div class=\"sk-text-repr-fallback\"><pre>SVC(gamma=&#x27;auto&#x27;, kernel=&#x27;sigmoid&#x27;)</pre><b>In a Jupyter environment, please rerun this cell to show the HTML representation or trust the notebook. <br />On GitHub, the HTML representation is unable to render, please try loading this page with nbviewer.org.</b></div><div class=\"sk-container\" hidden><div class=\"sk-item\"><div class=\"sk-estimator sk-toggleable\"><input class=\"sk-toggleable__control sk-hidden--visually\" id=\"sk-estimator-id-23\" type=\"checkbox\" checked><label for=\"sk-estimator-id-23\" class=\"sk-toggleable__label sk-toggleable__label-arrow\">SVC</label><div class=\"sk-toggleable__content\"><pre>SVC(gamma=&#x27;auto&#x27;, kernel=&#x27;sigmoid&#x27;)</pre></div></div></div></div></div>"
            ],
            "text/plain": [
              "SVC(gamma='auto', kernel='sigmoid')"
            ]
          },
          "execution_count": 379,
          "metadata": {},
          "output_type": "execute_result"
        }
      ],
      "source": [
        "model = SVC(kernel='sigmoid', gamma='auto')\n",
        "model.fit(X_train, Y_train)\n",
        "\n"
      ]
    },
    {
      "cell_type": "code",
      "execution_count": null,
      "metadata": {
        "id": "OInnpsFwzAOj"
      },
      "outputs": [],
      "source": [
        "Y_pred=model.predict(X_test)\n"
      ]
    },
    {
      "cell_type": "code",
      "execution_count": null,
      "metadata": {
        "colab": {
          "base_uri": "https://localhost:8080/"
        },
        "id": "JFuAJ7bJzAOk",
        "outputId": "53db6db3-507b-412c-df2d-501c829dbdda"
      },
      "outputs": [
        {
          "name": "stdout",
          "output_type": "stream",
          "text": [
            "96.63299663299664 %\n"
          ]
        }
      ],
      "source": [
        "print((accuracy_score(Y_pred,Y_test))*100,\"%\")\n"
      ]
    },
    {
      "cell_type": "code",
      "execution_count": null,
      "metadata": {
        "colab": {
          "base_uri": "https://localhost:8080/",
          "height": 74
        },
        "id": "1YMfBNSDzAOk",
        "outputId": "bbeeacef-4aa4-41b6-aff6-21df7b76b45e"
      },
      "outputs": [
        {
          "data": {
            "text/html": [
              "<style>#sk-container-id-24 {color: black;background-color: white;}#sk-container-id-24 pre{padding: 0;}#sk-container-id-24 div.sk-toggleable {background-color: white;}#sk-container-id-24 label.sk-toggleable__label {cursor: pointer;display: block;width: 100%;margin-bottom: 0;padding: 0.3em;box-sizing: border-box;text-align: center;}#sk-container-id-24 label.sk-toggleable__label-arrow:before {content: \"▸\";float: left;margin-right: 0.25em;color: #696969;}#sk-container-id-24 label.sk-toggleable__label-arrow:hover:before {color: black;}#sk-container-id-24 div.sk-estimator:hover label.sk-toggleable__label-arrow:before {color: black;}#sk-container-id-24 div.sk-toggleable__content {max-height: 0;max-width: 0;overflow: hidden;text-align: left;background-color: #f0f8ff;}#sk-container-id-24 div.sk-toggleable__content pre {margin: 0.2em;color: black;border-radius: 0.25em;background-color: #f0f8ff;}#sk-container-id-24 input.sk-toggleable__control:checked~div.sk-toggleable__content {max-height: 200px;max-width: 100%;overflow: auto;}#sk-container-id-24 input.sk-toggleable__control:checked~label.sk-toggleable__label-arrow:before {content: \"▾\";}#sk-container-id-24 div.sk-estimator input.sk-toggleable__control:checked~label.sk-toggleable__label {background-color: #d4ebff;}#sk-container-id-24 div.sk-label input.sk-toggleable__control:checked~label.sk-toggleable__label {background-color: #d4ebff;}#sk-container-id-24 input.sk-hidden--visually {border: 0;clip: rect(1px 1px 1px 1px);clip: rect(1px, 1px, 1px, 1px);height: 1px;margin: -1px;overflow: hidden;padding: 0;position: absolute;width: 1px;}#sk-container-id-24 div.sk-estimator {font-family: monospace;background-color: #f0f8ff;border: 1px dotted black;border-radius: 0.25em;box-sizing: border-box;margin-bottom: 0.5em;}#sk-container-id-24 div.sk-estimator:hover {background-color: #d4ebff;}#sk-container-id-24 div.sk-parallel-item::after {content: \"\";width: 100%;border-bottom: 1px solid gray;flex-grow: 1;}#sk-container-id-24 div.sk-label:hover label.sk-toggleable__label {background-color: #d4ebff;}#sk-container-id-24 div.sk-serial::before {content: \"\";position: absolute;border-left: 1px solid gray;box-sizing: border-box;top: 0;bottom: 0;left: 50%;z-index: 0;}#sk-container-id-24 div.sk-serial {display: flex;flex-direction: column;align-items: center;background-color: white;padding-right: 0.2em;padding-left: 0.2em;position: relative;}#sk-container-id-24 div.sk-item {position: relative;z-index: 1;}#sk-container-id-24 div.sk-parallel {display: flex;align-items: stretch;justify-content: center;background-color: white;position: relative;}#sk-container-id-24 div.sk-item::before, #sk-container-id-24 div.sk-parallel-item::before {content: \"\";position: absolute;border-left: 1px solid gray;box-sizing: border-box;top: 0;bottom: 0;left: 50%;z-index: -1;}#sk-container-id-24 div.sk-parallel-item {display: flex;flex-direction: column;z-index: 1;position: relative;background-color: white;}#sk-container-id-24 div.sk-parallel-item:first-child::after {align-self: flex-end;width: 50%;}#sk-container-id-24 div.sk-parallel-item:last-child::after {align-self: flex-start;width: 50%;}#sk-container-id-24 div.sk-parallel-item:only-child::after {width: 0;}#sk-container-id-24 div.sk-dashed-wrapped {border: 1px dashed gray;margin: 0 0.4em 0.5em 0.4em;box-sizing: border-box;padding-bottom: 0.4em;background-color: white;}#sk-container-id-24 div.sk-label label {font-family: monospace;font-weight: bold;display: inline-block;line-height: 1.2em;}#sk-container-id-24 div.sk-label-container {text-align: center;}#sk-container-id-24 div.sk-container {/* jupyter's `normalize.less` sets `[hidden] { display: none; }` but bootstrap.min.css set `[hidden] { display: none !important; }` so we also need the `!important` here to be able to override the default hidden behavior on the sphinx rendered scikit-learn.org. See: https://github.com/scikit-learn/scikit-learn/issues/21755 */display: inline-block !important;position: relative;}#sk-container-id-24 div.sk-text-repr-fallback {display: none;}</style><div id=\"sk-container-id-24\" class=\"sk-top-container\"><div class=\"sk-text-repr-fallback\"><pre>KNeighborsClassifier(n_neighbors=1)</pre><b>In a Jupyter environment, please rerun this cell to show the HTML representation or trust the notebook. <br />On GitHub, the HTML representation is unable to render, please try loading this page with nbviewer.org.</b></div><div class=\"sk-container\" hidden><div class=\"sk-item\"><div class=\"sk-estimator sk-toggleable\"><input class=\"sk-toggleable__control sk-hidden--visually\" id=\"sk-estimator-id-24\" type=\"checkbox\" checked><label for=\"sk-estimator-id-24\" class=\"sk-toggleable__label sk-toggleable__label-arrow\">KNeighborsClassifier</label><div class=\"sk-toggleable__content\"><pre>KNeighborsClassifier(n_neighbors=1)</pre></div></div></div></div></div>"
            ],
            "text/plain": [
              "KNeighborsClassifier(n_neighbors=1)"
            ]
          },
          "execution_count": 382,
          "metadata": {},
          "output_type": "execute_result"
        }
      ],
      "source": [
        "model1 = KNeighborsClassifier(n_neighbors=1)\n",
        "model1.fit(X_train,Y_train)"
      ]
    },
    {
      "cell_type": "code",
      "execution_count": null,
      "metadata": {
        "id": "xQ9gJI0NzAOl"
      },
      "outputs": [],
      "source": [
        "Y_pred1=model1.predict(X_test)"
      ]
    },
    {
      "cell_type": "code",
      "execution_count": null,
      "metadata": {
        "colab": {
          "base_uri": "https://localhost:8080/"
        },
        "id": "Bb9OduX7zAOl",
        "outputId": "4877f08a-cd6e-4804-8cff-d22a27459631"
      },
      "outputs": [
        {
          "name": "stdout",
          "output_type": "stream",
          "text": [
            "96.29629629629629 %\n"
          ]
        }
      ],
      "source": [
        "print((accuracy_score(Y_pred1,Y_test))*100,\"%\")"
      ]
    },
    {
      "cell_type": "code",
      "execution_count": null,
      "metadata": {
        "colab": {
          "base_uri": "https://localhost:8080/",
          "height": 74
        },
        "id": "EvoDykV7zAOm",
        "outputId": "4b95facd-6b77-453f-ce58-ab35eec342ba"
      },
      "outputs": [
        {
          "data": {
            "text/html": [
              "<style>#sk-container-id-25 {color: black;background-color: white;}#sk-container-id-25 pre{padding: 0;}#sk-container-id-25 div.sk-toggleable {background-color: white;}#sk-container-id-25 label.sk-toggleable__label {cursor: pointer;display: block;width: 100%;margin-bottom: 0;padding: 0.3em;box-sizing: border-box;text-align: center;}#sk-container-id-25 label.sk-toggleable__label-arrow:before {content: \"▸\";float: left;margin-right: 0.25em;color: #696969;}#sk-container-id-25 label.sk-toggleable__label-arrow:hover:before {color: black;}#sk-container-id-25 div.sk-estimator:hover label.sk-toggleable__label-arrow:before {color: black;}#sk-container-id-25 div.sk-toggleable__content {max-height: 0;max-width: 0;overflow: hidden;text-align: left;background-color: #f0f8ff;}#sk-container-id-25 div.sk-toggleable__content pre {margin: 0.2em;color: black;border-radius: 0.25em;background-color: #f0f8ff;}#sk-container-id-25 input.sk-toggleable__control:checked~div.sk-toggleable__content {max-height: 200px;max-width: 100%;overflow: auto;}#sk-container-id-25 input.sk-toggleable__control:checked~label.sk-toggleable__label-arrow:before {content: \"▾\";}#sk-container-id-25 div.sk-estimator input.sk-toggleable__control:checked~label.sk-toggleable__label {background-color: #d4ebff;}#sk-container-id-25 div.sk-label input.sk-toggleable__control:checked~label.sk-toggleable__label {background-color: #d4ebff;}#sk-container-id-25 input.sk-hidden--visually {border: 0;clip: rect(1px 1px 1px 1px);clip: rect(1px, 1px, 1px, 1px);height: 1px;margin: -1px;overflow: hidden;padding: 0;position: absolute;width: 1px;}#sk-container-id-25 div.sk-estimator {font-family: monospace;background-color: #f0f8ff;border: 1px dotted black;border-radius: 0.25em;box-sizing: border-box;margin-bottom: 0.5em;}#sk-container-id-25 div.sk-estimator:hover {background-color: #d4ebff;}#sk-container-id-25 div.sk-parallel-item::after {content: \"\";width: 100%;border-bottom: 1px solid gray;flex-grow: 1;}#sk-container-id-25 div.sk-label:hover label.sk-toggleable__label {background-color: #d4ebff;}#sk-container-id-25 div.sk-serial::before {content: \"\";position: absolute;border-left: 1px solid gray;box-sizing: border-box;top: 0;bottom: 0;left: 50%;z-index: 0;}#sk-container-id-25 div.sk-serial {display: flex;flex-direction: column;align-items: center;background-color: white;padding-right: 0.2em;padding-left: 0.2em;position: relative;}#sk-container-id-25 div.sk-item {position: relative;z-index: 1;}#sk-container-id-25 div.sk-parallel {display: flex;align-items: stretch;justify-content: center;background-color: white;position: relative;}#sk-container-id-25 div.sk-item::before, #sk-container-id-25 div.sk-parallel-item::before {content: \"\";position: absolute;border-left: 1px solid gray;box-sizing: border-box;top: 0;bottom: 0;left: 50%;z-index: -1;}#sk-container-id-25 div.sk-parallel-item {display: flex;flex-direction: column;z-index: 1;position: relative;background-color: white;}#sk-container-id-25 div.sk-parallel-item:first-child::after {align-self: flex-end;width: 50%;}#sk-container-id-25 div.sk-parallel-item:last-child::after {align-self: flex-start;width: 50%;}#sk-container-id-25 div.sk-parallel-item:only-child::after {width: 0;}#sk-container-id-25 div.sk-dashed-wrapped {border: 1px dashed gray;margin: 0 0.4em 0.5em 0.4em;box-sizing: border-box;padding-bottom: 0.4em;background-color: white;}#sk-container-id-25 div.sk-label label {font-family: monospace;font-weight: bold;display: inline-block;line-height: 1.2em;}#sk-container-id-25 div.sk-label-container {text-align: center;}#sk-container-id-25 div.sk-container {/* jupyter's `normalize.less` sets `[hidden] { display: none; }` but bootstrap.min.css set `[hidden] { display: none !important; }` so we also need the `!important` here to be able to override the default hidden behavior on the sphinx rendered scikit-learn.org. See: https://github.com/scikit-learn/scikit-learn/issues/21755 */display: inline-block !important;position: relative;}#sk-container-id-25 div.sk-text-repr-fallback {display: none;}</style><div id=\"sk-container-id-25\" class=\"sk-top-container\"><div class=\"sk-text-repr-fallback\"><pre>GaussianNB()</pre><b>In a Jupyter environment, please rerun this cell to show the HTML representation or trust the notebook. <br />On GitHub, the HTML representation is unable to render, please try loading this page with nbviewer.org.</b></div><div class=\"sk-container\" hidden><div class=\"sk-item\"><div class=\"sk-estimator sk-toggleable\"><input class=\"sk-toggleable__control sk-hidden--visually\" id=\"sk-estimator-id-25\" type=\"checkbox\" checked><label for=\"sk-estimator-id-25\" class=\"sk-toggleable__label sk-toggleable__label-arrow\">GaussianNB</label><div class=\"sk-toggleable__content\"><pre>GaussianNB()</pre></div></div></div></div></div>"
            ],
            "text/plain": [
              "GaussianNB()"
            ]
          },
          "execution_count": 385,
          "metadata": {},
          "output_type": "execute_result"
        }
      ],
      "source": [
        "model2 = GaussianNB()\n",
        "model2.fit(X_train,Y_train,sample_weight=None)\n"
      ]
    },
    {
      "cell_type": "code",
      "execution_count": null,
      "metadata": {
        "id": "kRBTbqvTzAOm"
      },
      "outputs": [],
      "source": [
        "Y_pred2=model2.predict(X_test)"
      ]
    },
    {
      "cell_type": "code",
      "execution_count": null,
      "metadata": {
        "colab": {
          "base_uri": "https://localhost:8080/"
        },
        "id": "2KA0JpkszAOm",
        "outputId": "8382afd0-a855-4209-8381-b032a2980cd1"
      },
      "outputs": [
        {
          "name": "stdout",
          "output_type": "stream",
          "text": [
            "95.95959595959596 %\n"
          ]
        }
      ],
      "source": [
        "print((accuracy_score(Y_pred2,Y_test))*100,\"%\")"
      ]
    },
    {
      "cell_type": "code",
      "execution_count": null,
      "metadata": {
        "id": "fp30k9FezAOn"
      },
      "outputs": [],
      "source": [
        "train_x,val_x,train_y,val_y=train_test_split(X_train,Y_train,stratify=Y_train,test_size=0.2,random_state=0)\n",
        "\n"
      ]
    },
    {
      "cell_type": "code",
      "execution_count": null,
      "metadata": {
        "colab": {
          "base_uri": "https://localhost:8080/"
        },
        "id": "Nh4h5k6pzAOn",
        "outputId": "38b8a62c-c308-4c8e-f2c0-9121a6191315"
      },
      "outputs": [
        {
          "name": "stdout",
          "output_type": "stream",
          "text": [
            "(2374, 26) (594, 26)\n"
          ]
        }
      ],
      "source": [
        "print(X_train.shape,X_test.shape)\n",
        "\n"
      ]
    },
    {
      "cell_type": "code",
      "execution_count": null,
      "metadata": {
        "id": "P_X2h0RkzAOn"
      },
      "outputs": [],
      "source": [
        "columns=['SRC_ADD','DES_ADD','PKT_ID','FROM_NODE','TO_NODE','PKT_TYPE','PKT_SIZE','FLAGS','FID','SEQ_NUMBER','NUMBER_OF_PKT','NUMBER_OF_BYTE','NODE_NAME_FROM','NODE_NAME_TO',' PKT_IN','PKT_OUT','PKT_R','PKT_DELAY_NODE','PKT_RATE','BYTE_RATE','PKT_AVG_SIZE','UTILIZATION','PKT_DELAY','PKT_SEND_TIME','PKT_RESEVED_TIME','FIRST_PKT_SENT',' LAST_PKT_RESEVED','PKT_CLASS']\n"
      ]
    },
    {
      "cell_type": "code",
      "execution_count": null,
      "metadata": {
        "id": "ES6ARaEezAOn"
      },
      "outputs": [],
      "source": [
        "model=SVC(kernel='sigmoid',gamma='auto')\n",
        "model.fit(X_train,Y_train)\n",
        "y_val_pred=model.predict(val_x)\n",
        "y_val_pred=pd.DataFrame(y_val_pred)\n",
        "y_test_pred=model.predict(X_test)\n",
        "y_test_pred=pd.DataFrame(y_test_pred)\n"
      ]
    },
    {
      "cell_type": "code",
      "execution_count": null,
      "metadata": {
        "id": "BvP2N9GkzAOo"
      },
      "outputs": [],
      "source": [
        "model1 = KNeighborsClassifier(n_neighbors=5)\n",
        "model1.fit(X_train,Y_train)\n",
        "y_val_pred1=model1.predict(val_x)\n",
        "y_val_pred1=pd.DataFrame(y_val_pred1)\n",
        "y_test_pred1=model1.predict(X_test)\n",
        "y_test_pred1=pd.DataFrame(y_test_pred1)\n",
        "\n"
      ]
    },
    {
      "cell_type": "code",
      "execution_count": null,
      "metadata": {
        "id": "3GX2LZXezAOo"
      },
      "outputs": [],
      "source": [
        "model2 = GaussianNB()\n",
        "model2.fit(X_train,Y_train)\n",
        "y_val_pred2=model2.predict(val_x)\n",
        "y_val_pred2=pd.DataFrame(y_val_pred2)\n",
        "y_test_pred2=model2.predict(X_test)\n",
        "y_test_pred2=pd.DataFrame(y_test_pred2)\n",
        "\n"
      ]
    },
    {
      "cell_type": "code",
      "execution_count": null,
      "metadata": {
        "id": "xekmqxNMzAOo"
      },
      "outputs": [],
      "source": [
        "val_input=pd.concat([pd.DataFrame(val_x),y_val_pred,y_val_pred1,y_val_pred2],axis=1)\n",
        "test_input=pd.concat([pd.DataFrame(X_test),y_test_pred,y_test_pred1,y_test_pred2],axis=1)\n",
        "\n"
      ]
    },
    {
      "cell_type": "code",
      "execution_count": null,
      "metadata": {
        "colab": {
          "base_uri": "https://localhost:8080/",
          "height": 74
        },
        "id": "ZDRbyqggzAOo",
        "outputId": "d567b45a-ebab-4b65-9de0-ee0d640a4be3"
      },
      "outputs": [
        {
          "data": {
            "text/html": [
              "<style>#sk-container-id-26 {color: black;background-color: white;}#sk-container-id-26 pre{padding: 0;}#sk-container-id-26 div.sk-toggleable {background-color: white;}#sk-container-id-26 label.sk-toggleable__label {cursor: pointer;display: block;width: 100%;margin-bottom: 0;padding: 0.3em;box-sizing: border-box;text-align: center;}#sk-container-id-26 label.sk-toggleable__label-arrow:before {content: \"▸\";float: left;margin-right: 0.25em;color: #696969;}#sk-container-id-26 label.sk-toggleable__label-arrow:hover:before {color: black;}#sk-container-id-26 div.sk-estimator:hover label.sk-toggleable__label-arrow:before {color: black;}#sk-container-id-26 div.sk-toggleable__content {max-height: 0;max-width: 0;overflow: hidden;text-align: left;background-color: #f0f8ff;}#sk-container-id-26 div.sk-toggleable__content pre {margin: 0.2em;color: black;border-radius: 0.25em;background-color: #f0f8ff;}#sk-container-id-26 input.sk-toggleable__control:checked~div.sk-toggleable__content {max-height: 200px;max-width: 100%;overflow: auto;}#sk-container-id-26 input.sk-toggleable__control:checked~label.sk-toggleable__label-arrow:before {content: \"▾\";}#sk-container-id-26 div.sk-estimator input.sk-toggleable__control:checked~label.sk-toggleable__label {background-color: #d4ebff;}#sk-container-id-26 div.sk-label input.sk-toggleable__control:checked~label.sk-toggleable__label {background-color: #d4ebff;}#sk-container-id-26 input.sk-hidden--visually {border: 0;clip: rect(1px 1px 1px 1px);clip: rect(1px, 1px, 1px, 1px);height: 1px;margin: -1px;overflow: hidden;padding: 0;position: absolute;width: 1px;}#sk-container-id-26 div.sk-estimator {font-family: monospace;background-color: #f0f8ff;border: 1px dotted black;border-radius: 0.25em;box-sizing: border-box;margin-bottom: 0.5em;}#sk-container-id-26 div.sk-estimator:hover {background-color: #d4ebff;}#sk-container-id-26 div.sk-parallel-item::after {content: \"\";width: 100%;border-bottom: 1px solid gray;flex-grow: 1;}#sk-container-id-26 div.sk-label:hover label.sk-toggleable__label {background-color: #d4ebff;}#sk-container-id-26 div.sk-serial::before {content: \"\";position: absolute;border-left: 1px solid gray;box-sizing: border-box;top: 0;bottom: 0;left: 50%;z-index: 0;}#sk-container-id-26 div.sk-serial {display: flex;flex-direction: column;align-items: center;background-color: white;padding-right: 0.2em;padding-left: 0.2em;position: relative;}#sk-container-id-26 div.sk-item {position: relative;z-index: 1;}#sk-container-id-26 div.sk-parallel {display: flex;align-items: stretch;justify-content: center;background-color: white;position: relative;}#sk-container-id-26 div.sk-item::before, #sk-container-id-26 div.sk-parallel-item::before {content: \"\";position: absolute;border-left: 1px solid gray;box-sizing: border-box;top: 0;bottom: 0;left: 50%;z-index: -1;}#sk-container-id-26 div.sk-parallel-item {display: flex;flex-direction: column;z-index: 1;position: relative;background-color: white;}#sk-container-id-26 div.sk-parallel-item:first-child::after {align-self: flex-end;width: 50%;}#sk-container-id-26 div.sk-parallel-item:last-child::after {align-self: flex-start;width: 50%;}#sk-container-id-26 div.sk-parallel-item:only-child::after {width: 0;}#sk-container-id-26 div.sk-dashed-wrapped {border: 1px dashed gray;margin: 0 0.4em 0.5em 0.4em;box-sizing: border-box;padding-bottom: 0.4em;background-color: white;}#sk-container-id-26 div.sk-label label {font-family: monospace;font-weight: bold;display: inline-block;line-height: 1.2em;}#sk-container-id-26 div.sk-label-container {text-align: center;}#sk-container-id-26 div.sk-container {/* jupyter's `normalize.less` sets `[hidden] { display: none; }` but bootstrap.min.css set `[hidden] { display: none !important; }` so we also need the `!important` here to be able to override the default hidden behavior on the sphinx rendered scikit-learn.org. See: https://github.com/scikit-learn/scikit-learn/issues/21755 */display: inline-block !important;position: relative;}#sk-container-id-26 div.sk-text-repr-fallback {display: none;}</style><div id=\"sk-container-id-26\" class=\"sk-top-container\"><div class=\"sk-text-repr-fallback\"><pre>RandomForestClassifier(n_estimators=500)</pre><b>In a Jupyter environment, please rerun this cell to show the HTML representation or trust the notebook. <br />On GitHub, the HTML representation is unable to render, please try loading this page with nbviewer.org.</b></div><div class=\"sk-container\" hidden><div class=\"sk-item\"><div class=\"sk-estimator sk-toggleable\"><input class=\"sk-toggleable__control sk-hidden--visually\" id=\"sk-estimator-id-26\" type=\"checkbox\" checked><label for=\"sk-estimator-id-26\" class=\"sk-toggleable__label sk-toggleable__label-arrow\">RandomForestClassifier</label><div class=\"sk-toggleable__content\"><pre>RandomForestClassifier(n_estimators=500)</pre></div></div></div></div></div>"
            ],
            "text/plain": [
              "RandomForestClassifier(n_estimators=500)"
            ]
          },
          "execution_count": 395,
          "metadata": {},
          "output_type": "execute_result"
        }
      ],
      "source": [
        "model3=RandomForestClassifier(n_estimators=500)\n",
        "model3.fit(val_input,val_y)\n",
        "\n",
        "\n"
      ]
    },
    {
      "cell_type": "code",
      "execution_count": null,
      "metadata": {
        "colab": {
          "base_uri": "https://localhost:8080/"
        },
        "id": "nqz1_0rUzAOp",
        "outputId": "d61b6487-c363-4cd7-8240-d9093ba2d622"
      },
      "outputs": [
        {
          "name": "stdout",
          "output_type": "stream",
          "text": [
            "98.14814814814815 %\n"
          ]
        }
      ],
      "source": [
        "print(model3.score(test_input,Y_test)*100,\"%\")\n",
        "\n"
      ]
    }
  ],
  "metadata": {
    "colab": {
      "provenance": []
    },
    "kernelspec": {
      "display_name": "Python 3",
      "language": "python",
      "name": "python3"
    },
    "language_info": {
      "codemirror_mode": {
        "name": "ipython",
        "version": 3
      },
      "file_extension": ".py",
      "mimetype": "text/x-python",
      "name": "python",
      "nbconvert_exporter": "python",
      "pygments_lexer": "ipython3",
      "version": "3.9.6"
    },
    "orig_nbformat": 4,
    "vscode": {
      "interpreter": {
        "hash": "b247ce12b8c619a8835a63c4acb3cfb073d5fb0accca74ae59d1a34b1bea2a5a"
      }
    }
  },
  "nbformat": 4,
  "nbformat_minor": 0
}
