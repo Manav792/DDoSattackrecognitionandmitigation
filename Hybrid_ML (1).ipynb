{
  "cells": [
    {
      "cell_type": "code",
      "execution_count": 4,
      "metadata": {
        "id": "F0hogJAwzAOQ"
      },
      "outputs": [],
      "source": [
        "import numpy as np\n",
        "import pandas as pd\n",
        "from sklearn.model_selection import train_test_split\n",
        "from sklearn.preprocessing import StandardScaler\n",
        "from sklearn.preprocessing import LabelEncoder\n",
        "from sklearn.metrics import accuracy_score\n",
        "from sklearn.svm import SVC\n",
        "from sklearn.neighbors import KNeighborsClassifier\n",
        "from sklearn.naive_bayes import GaussianNB\n",
        "from sklearn.ensemble import RandomForestClassifier\n",
        "import matplotlib.pyplot as plt\n",
        "import seaborn as sns"
      ]
    },
    {
      "cell_type": "code",
      "execution_count": 5,
      "metadata": {
        "colab": {
          "base_uri": "https://localhost:8080/",
          "height": 299
        },
        "id": "yenU__aBzAOY",
        "outputId": "f4995709-cc87-4662-c544-45ed99e91b8e"
      },
      "outputs": [
        {
          "output_type": "execute_result",
          "data": {
            "text/plain": [
              "   SRC_ADD  DES_ADD  PKT_ID  FROM_NODE  TO_NODE PKT_TYPE  PKT_SIZE  FID  \\\n",
              "0     3.00    24.30  389693         21       23      tcp      1540    4   \n",
              "1    15.00    24.15  201196         23       24      tcp      1540   16   \n",
              "2    24.15    15.00   61905         23       22      ack        55   16   \n",
              "3    24.90     9.00  443135         23       21      ack        55   10   \n",
              "4    24.80     8.00  157335         23       21      ack        55    9   \n",
              "\n",
              "   SEQ_NUMBER  NUMBER_OF_PKT  ...    PKT_RATE BYTE_RATE PKT_AVG_SIZE  \\\n",
              "0       11339          16091  ...  328.240918  505490.0       1540.0   \n",
              "1        6274          16092  ...  328.205808  505437.0       1540.0   \n",
              "2        1930          16092  ...  328.206042   18051.3         55.0   \n",
              "3       12670          16085  ...  328.064183   18043.5         55.0   \n",
              "4        4901          16088  ...  328.113525   18046.2         55.0   \n",
              "\n",
              "   UTILIZATION  PKT_DELAY  PKT_SEND_TIME  PKT_RESEVED_TIME  FIRST_PKT_SENT  \\\n",
              "0     0.236321        0.0      35.519662         35.550032        1.000000   \n",
              "1     0.236337        0.0      20.156478         20.186848        1.000000   \n",
              "2     0.008441        0.0       7.039952          7.069962        1.030045   \n",
              "3     0.008437        0.0      39.617967         39.647976        1.030058   \n",
              "4     0.008438        0.0      16.029803         16.059813        1.030054   \n",
              "\n",
              "   LAST_PKT_RESEVED  PKT_CLASS  \n",
              "0         50.021920     Normal  \n",
              "1         50.030211     Normal  \n",
              "2         50.060221  UDP-Flood  \n",
              "3         50.060098     Normal  \n",
              "4         50.061864     Normal  \n",
              "\n",
              "[5 rows x 27 columns]"
            ],
            "text/html": [
              "\n",
              "\n",
              "  <div id=\"df-43d4f733-531d-418a-93ad-4da27944ff58\">\n",
              "    <div class=\"colab-df-container\">\n",
              "      <div>\n",
              "<style scoped>\n",
              "    .dataframe tbody tr th:only-of-type {\n",
              "        vertical-align: middle;\n",
              "    }\n",
              "\n",
              "    .dataframe tbody tr th {\n",
              "        vertical-align: top;\n",
              "    }\n",
              "\n",
              "    .dataframe thead th {\n",
              "        text-align: right;\n",
              "    }\n",
              "</style>\n",
              "<table border=\"1\" class=\"dataframe\">\n",
              "  <thead>\n",
              "    <tr style=\"text-align: right;\">\n",
              "      <th></th>\n",
              "      <th>SRC_ADD</th>\n",
              "      <th>DES_ADD</th>\n",
              "      <th>PKT_ID</th>\n",
              "      <th>FROM_NODE</th>\n",
              "      <th>TO_NODE</th>\n",
              "      <th>PKT_TYPE</th>\n",
              "      <th>PKT_SIZE</th>\n",
              "      <th>FID</th>\n",
              "      <th>SEQ_NUMBER</th>\n",
              "      <th>NUMBER_OF_PKT</th>\n",
              "      <th>...</th>\n",
              "      <th>PKT_RATE</th>\n",
              "      <th>BYTE_RATE</th>\n",
              "      <th>PKT_AVG_SIZE</th>\n",
              "      <th>UTILIZATION</th>\n",
              "      <th>PKT_DELAY</th>\n",
              "      <th>PKT_SEND_TIME</th>\n",
              "      <th>PKT_RESEVED_TIME</th>\n",
              "      <th>FIRST_PKT_SENT</th>\n",
              "      <th>LAST_PKT_RESEVED</th>\n",
              "      <th>PKT_CLASS</th>\n",
              "    </tr>\n",
              "  </thead>\n",
              "  <tbody>\n",
              "    <tr>\n",
              "      <th>0</th>\n",
              "      <td>3.00</td>\n",
              "      <td>24.30</td>\n",
              "      <td>389693</td>\n",
              "      <td>21</td>\n",
              "      <td>23</td>\n",
              "      <td>tcp</td>\n",
              "      <td>1540</td>\n",
              "      <td>4</td>\n",
              "      <td>11339</td>\n",
              "      <td>16091</td>\n",
              "      <td>...</td>\n",
              "      <td>328.240918</td>\n",
              "      <td>505490.0</td>\n",
              "      <td>1540.0</td>\n",
              "      <td>0.236321</td>\n",
              "      <td>0.0</td>\n",
              "      <td>35.519662</td>\n",
              "      <td>35.550032</td>\n",
              "      <td>1.000000</td>\n",
              "      <td>50.021920</td>\n",
              "      <td>Normal</td>\n",
              "    </tr>\n",
              "    <tr>\n",
              "      <th>1</th>\n",
              "      <td>15.00</td>\n",
              "      <td>24.15</td>\n",
              "      <td>201196</td>\n",
              "      <td>23</td>\n",
              "      <td>24</td>\n",
              "      <td>tcp</td>\n",
              "      <td>1540</td>\n",
              "      <td>16</td>\n",
              "      <td>6274</td>\n",
              "      <td>16092</td>\n",
              "      <td>...</td>\n",
              "      <td>328.205808</td>\n",
              "      <td>505437.0</td>\n",
              "      <td>1540.0</td>\n",
              "      <td>0.236337</td>\n",
              "      <td>0.0</td>\n",
              "      <td>20.156478</td>\n",
              "      <td>20.186848</td>\n",
              "      <td>1.000000</td>\n",
              "      <td>50.030211</td>\n",
              "      <td>Normal</td>\n",
              "    </tr>\n",
              "    <tr>\n",
              "      <th>2</th>\n",
              "      <td>24.15</td>\n",
              "      <td>15.00</td>\n",
              "      <td>61905</td>\n",
              "      <td>23</td>\n",
              "      <td>22</td>\n",
              "      <td>ack</td>\n",
              "      <td>55</td>\n",
              "      <td>16</td>\n",
              "      <td>1930</td>\n",
              "      <td>16092</td>\n",
              "      <td>...</td>\n",
              "      <td>328.206042</td>\n",
              "      <td>18051.3</td>\n",
              "      <td>55.0</td>\n",
              "      <td>0.008441</td>\n",
              "      <td>0.0</td>\n",
              "      <td>7.039952</td>\n",
              "      <td>7.069962</td>\n",
              "      <td>1.030045</td>\n",
              "      <td>50.060221</td>\n",
              "      <td>UDP-Flood</td>\n",
              "    </tr>\n",
              "    <tr>\n",
              "      <th>3</th>\n",
              "      <td>24.90</td>\n",
              "      <td>9.00</td>\n",
              "      <td>443135</td>\n",
              "      <td>23</td>\n",
              "      <td>21</td>\n",
              "      <td>ack</td>\n",
              "      <td>55</td>\n",
              "      <td>10</td>\n",
              "      <td>12670</td>\n",
              "      <td>16085</td>\n",
              "      <td>...</td>\n",
              "      <td>328.064183</td>\n",
              "      <td>18043.5</td>\n",
              "      <td>55.0</td>\n",
              "      <td>0.008437</td>\n",
              "      <td>0.0</td>\n",
              "      <td>39.617967</td>\n",
              "      <td>39.647976</td>\n",
              "      <td>1.030058</td>\n",
              "      <td>50.060098</td>\n",
              "      <td>Normal</td>\n",
              "    </tr>\n",
              "    <tr>\n",
              "      <th>4</th>\n",
              "      <td>24.80</td>\n",
              "      <td>8.00</td>\n",
              "      <td>157335</td>\n",
              "      <td>23</td>\n",
              "      <td>21</td>\n",
              "      <td>ack</td>\n",
              "      <td>55</td>\n",
              "      <td>9</td>\n",
              "      <td>4901</td>\n",
              "      <td>16088</td>\n",
              "      <td>...</td>\n",
              "      <td>328.113525</td>\n",
              "      <td>18046.2</td>\n",
              "      <td>55.0</td>\n",
              "      <td>0.008438</td>\n",
              "      <td>0.0</td>\n",
              "      <td>16.029803</td>\n",
              "      <td>16.059813</td>\n",
              "      <td>1.030054</td>\n",
              "      <td>50.061864</td>\n",
              "      <td>Normal</td>\n",
              "    </tr>\n",
              "  </tbody>\n",
              "</table>\n",
              "<p>5 rows × 27 columns</p>\n",
              "</div>\n",
              "      <button class=\"colab-df-convert\" onclick=\"convertToInteractive('df-43d4f733-531d-418a-93ad-4da27944ff58')\"\n",
              "              title=\"Convert this dataframe to an interactive table.\"\n",
              "              style=\"display:none;\">\n",
              "\n",
              "  <svg xmlns=\"http://www.w3.org/2000/svg\" height=\"24px\"viewBox=\"0 0 24 24\"\n",
              "       width=\"24px\">\n",
              "    <path d=\"M0 0h24v24H0V0z\" fill=\"none\"/>\n",
              "    <path d=\"M18.56 5.44l.94 2.06.94-2.06 2.06-.94-2.06-.94-.94-2.06-.94 2.06-2.06.94zm-11 1L8.5 8.5l.94-2.06 2.06-.94-2.06-.94L8.5 2.5l-.94 2.06-2.06.94zm10 10l.94 2.06.94-2.06 2.06-.94-2.06-.94-.94-2.06-.94 2.06-2.06.94z\"/><path d=\"M17.41 7.96l-1.37-1.37c-.4-.4-.92-.59-1.43-.59-.52 0-1.04.2-1.43.59L10.3 9.45l-7.72 7.72c-.78.78-.78 2.05 0 2.83L4 21.41c.39.39.9.59 1.41.59.51 0 1.02-.2 1.41-.59l7.78-7.78 2.81-2.81c.8-.78.8-2.07 0-2.86zM5.41 20L4 18.59l7.72-7.72 1.47 1.35L5.41 20z\"/>\n",
              "  </svg>\n",
              "      </button>\n",
              "\n",
              "\n",
              "\n",
              "    <div id=\"df-0f66ea1a-8ced-4ba9-9046-b580f0cdbcee\">\n",
              "      <button class=\"colab-df-quickchart\" onclick=\"quickchart('df-0f66ea1a-8ced-4ba9-9046-b580f0cdbcee')\"\n",
              "              title=\"Suggest charts.\"\n",
              "              style=\"display:none;\">\n",
              "\n",
              "<svg xmlns=\"http://www.w3.org/2000/svg\" height=\"24px\"viewBox=\"0 0 24 24\"\n",
              "     width=\"24px\">\n",
              "    <g>\n",
              "        <path d=\"M19 3H5c-1.1 0-2 .9-2 2v14c0 1.1.9 2 2 2h14c1.1 0 2-.9 2-2V5c0-1.1-.9-2-2-2zM9 17H7v-7h2v7zm4 0h-2V7h2v10zm4 0h-2v-4h2v4z\"/>\n",
              "    </g>\n",
              "</svg>\n",
              "      </button>\n",
              "    </div>\n",
              "\n",
              "<style>\n",
              "  .colab-df-quickchart {\n",
              "    background-color: #E8F0FE;\n",
              "    border: none;\n",
              "    border-radius: 50%;\n",
              "    cursor: pointer;\n",
              "    display: none;\n",
              "    fill: #1967D2;\n",
              "    height: 32px;\n",
              "    padding: 0 0 0 0;\n",
              "    width: 32px;\n",
              "  }\n",
              "\n",
              "  .colab-df-quickchart:hover {\n",
              "    background-color: #E2EBFA;\n",
              "    box-shadow: 0px 1px 2px rgba(60, 64, 67, 0.3), 0px 1px 3px 1px rgba(60, 64, 67, 0.15);\n",
              "    fill: #174EA6;\n",
              "  }\n",
              "\n",
              "  [theme=dark] .colab-df-quickchart {\n",
              "    background-color: #3B4455;\n",
              "    fill: #D2E3FC;\n",
              "  }\n",
              "\n",
              "  [theme=dark] .colab-df-quickchart:hover {\n",
              "    background-color: #434B5C;\n",
              "    box-shadow: 0px 1px 3px 1px rgba(0, 0, 0, 0.15);\n",
              "    filter: drop-shadow(0px 1px 2px rgba(0, 0, 0, 0.3));\n",
              "    fill: #FFFFFF;\n",
              "  }\n",
              "</style>\n",
              "\n",
              "    <script>\n",
              "      async function quickchart(key) {\n",
              "        const containerElement = document.querySelector('#' + key);\n",
              "        const charts = await google.colab.kernel.invokeFunction(\n",
              "            'suggestCharts', [key], {});\n",
              "      }\n",
              "    </script>\n",
              "\n",
              "      <script>\n",
              "\n",
              "function displayQuickchartButton(domScope) {\n",
              "  let quickchartButtonEl =\n",
              "    domScope.querySelector('#df-0f66ea1a-8ced-4ba9-9046-b580f0cdbcee button.colab-df-quickchart');\n",
              "  quickchartButtonEl.style.display =\n",
              "    google.colab.kernel.accessAllowed ? 'block' : 'none';\n",
              "}\n",
              "\n",
              "        displayQuickchartButton(document);\n",
              "      </script>\n",
              "      <style>\n",
              "    .colab-df-container {\n",
              "      display:flex;\n",
              "      flex-wrap:wrap;\n",
              "      gap: 12px;\n",
              "    }\n",
              "\n",
              "    .colab-df-convert {\n",
              "      background-color: #E8F0FE;\n",
              "      border: none;\n",
              "      border-radius: 50%;\n",
              "      cursor: pointer;\n",
              "      display: none;\n",
              "      fill: #1967D2;\n",
              "      height: 32px;\n",
              "      padding: 0 0 0 0;\n",
              "      width: 32px;\n",
              "    }\n",
              "\n",
              "    .colab-df-convert:hover {\n",
              "      background-color: #E2EBFA;\n",
              "      box-shadow: 0px 1px 2px rgba(60, 64, 67, 0.3), 0px 1px 3px 1px rgba(60, 64, 67, 0.15);\n",
              "      fill: #174EA6;\n",
              "    }\n",
              "\n",
              "    [theme=dark] .colab-df-convert {\n",
              "      background-color: #3B4455;\n",
              "      fill: #D2E3FC;\n",
              "    }\n",
              "\n",
              "    [theme=dark] .colab-df-convert:hover {\n",
              "      background-color: #434B5C;\n",
              "      box-shadow: 0px 1px 3px 1px rgba(0, 0, 0, 0.15);\n",
              "      filter: drop-shadow(0px 1px 2px rgba(0, 0, 0, 0.3));\n",
              "      fill: #FFFFFF;\n",
              "    }\n",
              "  </style>\n",
              "\n",
              "      <script>\n",
              "        const buttonEl =\n",
              "          document.querySelector('#df-43d4f733-531d-418a-93ad-4da27944ff58 button.colab-df-convert');\n",
              "        buttonEl.style.display =\n",
              "          google.colab.kernel.accessAllowed ? 'block' : 'none';\n",
              "\n",
              "        async function convertToInteractive(key) {\n",
              "          const element = document.querySelector('#df-43d4f733-531d-418a-93ad-4da27944ff58');\n",
              "          const dataTable =\n",
              "            await google.colab.kernel.invokeFunction('convertToInteractive',\n",
              "                                                     [key], {});\n",
              "          if (!dataTable) return;\n",
              "\n",
              "          const docLinkHtml = 'Like what you see? Visit the ' +\n",
              "            '<a target=\"_blank\" href=https://colab.research.google.com/notebooks/data_table.ipynb>data table notebook</a>'\n",
              "            + ' to learn more about interactive tables.';\n",
              "          element.innerHTML = '';\n",
              "          dataTable['output_type'] = 'display_data';\n",
              "          await google.colab.output.renderOutput(dataTable, element);\n",
              "          const docLink = document.createElement('div');\n",
              "          docLink.innerHTML = docLinkHtml;\n",
              "          element.appendChild(docLink);\n",
              "        }\n",
              "      </script>\n",
              "    </div>\n",
              "  </div>\n"
            ]
          },
          "metadata": {},
          "execution_count": 5
        }
      ],
      "source": [
        "data = pd.read_csv(\"final-dataset.csv\")\n",
        "data.head()"
      ]
    },
    {
      "cell_type": "code",
      "execution_count": 6,
      "metadata": {
        "colab": {
          "base_uri": "https://localhost:8080/"
        },
        "id": "XuNwHCouzAOa",
        "outputId": "081fddf3-c62b-4c60-e0f3-8ba8d91707cc"
      },
      "outputs": [
        {
          "output_type": "stream",
          "name": "stdout",
          "text": [
            "<class 'pandas.core.frame.DataFrame'>\n",
            "RangeIndex: 20079 entries, 0 to 20078\n",
            "Data columns (total 27 columns):\n",
            " #   Column            Non-Null Count  Dtype  \n",
            "---  ------            --------------  -----  \n",
            " 0   SRC_ADD           20079 non-null  float64\n",
            " 1   DES_ADD           20079 non-null  float64\n",
            " 2   PKT_ID            20079 non-null  int64  \n",
            " 3   FROM_NODE         20079 non-null  int64  \n",
            " 4   TO_NODE           20079 non-null  int64  \n",
            " 5   PKT_TYPE          20079 non-null  object \n",
            " 6   PKT_SIZE          20079 non-null  int64  \n",
            " 7   FID               20079 non-null  int64  \n",
            " 8   SEQ_NUMBER        20079 non-null  int64  \n",
            " 9   NUMBER_OF_PKT     20079 non-null  int64  \n",
            " 10  NUMBER_OF_BYTE    20079 non-null  int64  \n",
            " 11  NODE_NAME_FROM    20079 non-null  object \n",
            " 12  NODE_NAME_TO      20079 non-null  object \n",
            " 13  PKT_IN            20079 non-null  float64\n",
            " 14  PKT_OUT           20079 non-null  float64\n",
            " 15  PKT_R             20079 non-null  float64\n",
            " 16  PKT_DELAY_NODE    20079 non-null  float64\n",
            " 17  PKT_RATE          20079 non-null  float64\n",
            " 18  BYTE_RATE         20079 non-null  float64\n",
            " 19  PKT_AVG_SIZE      20079 non-null  float64\n",
            " 20  UTILIZATION       20079 non-null  float64\n",
            " 21  PKT_DELAY         20079 non-null  float64\n",
            " 22  PKT_SEND_TIME     20079 non-null  float64\n",
            " 23  PKT_RESEVED_TIME  20079 non-null  float64\n",
            " 24  FIRST_PKT_SENT    20079 non-null  float64\n",
            " 25  LAST_PKT_RESEVED  20079 non-null  float64\n",
            " 26  PKT_CLASS         20079 non-null  object \n",
            "dtypes: float64(15), int64(8), object(4)\n",
            "memory usage: 4.1+ MB\n"
          ]
        }
      ],
      "source": [
        "data.info()"
      ]
    },
    {
      "cell_type": "code",
      "execution_count": 8,
      "metadata": {
        "id": "EQUmeI2w10rK"
      },
      "outputs": [],
      "source": [
        "a = LabelEncoder()\n",
        "for i in data.columns:\n",
        "  if data[i].dtype == 'object':\n",
        "    data[i] = a.fit_transform(data[i])"
      ]
    },
    {
      "cell_type": "code",
      "execution_count": 9,
      "metadata": {
        "colab": {
          "base_uri": "https://localhost:8080/"
        },
        "id": "t2iTEOVi2dSY",
        "outputId": "4821ea58-2c65-4756-f415-a0704f121eba"
      },
      "outputs": [
        {
          "output_type": "stream",
          "name": "stdout",
          "text": [
            "<class 'pandas.core.frame.DataFrame'>\n",
            "RangeIndex: 20079 entries, 0 to 20078\n",
            "Data columns (total 27 columns):\n",
            " #   Column            Non-Null Count  Dtype  \n",
            "---  ------            --------------  -----  \n",
            " 0   SRC_ADD           20079 non-null  float64\n",
            " 1   DES_ADD           20079 non-null  float64\n",
            " 2   PKT_ID            20079 non-null  int64  \n",
            " 3   FROM_NODE         20079 non-null  int64  \n",
            " 4   TO_NODE           20079 non-null  int64  \n",
            " 5   PKT_TYPE          20079 non-null  int64  \n",
            " 6   PKT_SIZE          20079 non-null  int64  \n",
            " 7   FID               20079 non-null  int64  \n",
            " 8   SEQ_NUMBER        20079 non-null  int64  \n",
            " 9   NUMBER_OF_PKT     20079 non-null  int64  \n",
            " 10  NUMBER_OF_BYTE    20079 non-null  int64  \n",
            " 11  NODE_NAME_FROM    20079 non-null  int64  \n",
            " 12  NODE_NAME_TO      20079 non-null  int64  \n",
            " 13  PKT_IN            20079 non-null  float64\n",
            " 14  PKT_OUT           20079 non-null  float64\n",
            " 15  PKT_R             20079 non-null  float64\n",
            " 16  PKT_DELAY_NODE    20079 non-null  float64\n",
            " 17  PKT_RATE          20079 non-null  float64\n",
            " 18  BYTE_RATE         20079 non-null  float64\n",
            " 19  PKT_AVG_SIZE      20079 non-null  float64\n",
            " 20  UTILIZATION       20079 non-null  float64\n",
            " 21  PKT_DELAY         20079 non-null  float64\n",
            " 22  PKT_SEND_TIME     20079 non-null  float64\n",
            " 23  PKT_RESEVED_TIME  20079 non-null  float64\n",
            " 24  FIRST_PKT_SENT    20079 non-null  float64\n",
            " 25  LAST_PKT_RESEVED  20079 non-null  float64\n",
            " 26  PKT_CLASS         20079 non-null  int64  \n",
            "dtypes: float64(15), int64(12)\n",
            "memory usage: 4.1 MB\n"
          ]
        }
      ],
      "source": [
        "data.info()"
      ]
    },
    {
      "cell_type": "code",
      "source": [
        "corrmat = data.corr()\n",
        "k = 10\n",
        "cols = corrmat.nlargest(k, 'PKT_CLASS')['PKT_CLASS'].index\n",
        "cm = np.corrcoef(data[cols].values.T)\n",
        "plt.figure(figsize=(14,12))\n",
        "hm = sns.heatmap(cm, cbar=True, annot=True, square=True, fmt='.2f', annot_kws={'size': 10}, yticklabels=cols.values, xticklabels=cols.values, cmap='YlGn', linecolor='white')"
      ],
      "metadata": {
        "colab": {
          "base_uri": "https://localhost:8080/",
          "height": 1000
        },
        "id": "qQwa-4toOOvk",
        "outputId": "68a9dd1b-c6e9-456d-ed3d-67806f0c3d16"
      },
      "execution_count": 10,
      "outputs": [
        {
          "output_type": "display_data",
          "data": {
            "text/plain": [
              "<Figure size 1400x1200 with 2 Axes>"
            ],
            "image/png": "[encoded data removed]"
          },
          "metadata": {}
        }
      ]
    },
    {
      "cell_type": "code",
      "source": [
        "high_corr_features=corrmat.index[abs(corrmat['PKT_CLASS'])>0.40]\n",
        "print(f'Highly Corrolated Features:\\n', high_corr_features, '\\n')\n",
        "print(f'No. of Highly Corrolated Features:', len(high_corr_features))"
      ],
      "metadata": {
        "colab": {
          "base_uri": "https://localhost:8080/"
        },
        "id": "TBms_bhoPHzP",
        "outputId": "8c74c988-0b35-41b9-d9a4-3283e2ef206d"
      },
      "execution_count": 11,
      "outputs": [
        {
          "output_type": "stream",
          "name": "stdout",
          "text": [
            "Highly Corrolated Features:\n",
            " Index(['FID', 'NODE_NAME_FROM', 'NODE_NAME_TO', 'PKT_RATE', 'BYTE_RATE',\n",
            "       'PKT_DELAY', 'LAST_PKT_RESEVED', 'PKT_CLASS'],\n",
            "      dtype='object') \n",
            "\n",
            "No. of Highly Corrolated Features: 8\n"
          ]
        }
      ]
    },
    {
      "cell_type": "code",
      "execution_count": 12,
      "metadata": {
        "id": "H2q8xfNZzAOb"
      },
      "outputs": [],
      "source": [
        "X = data.drop('PKT_CLASS',axis=1)\n",
        "Y = data['PKT_CLASS']\n",
        "\n",
        "X_train, X_test, Y_train, Y_test = train_test_split(X,Y,test_size=0.2,random_state=0)\n"
      ]
    },
    {
      "cell_type": "code",
      "execution_count": 13,
      "metadata": {
        "colab": {
          "base_uri": "https://localhost:8080/"
        },
        "id": "TRfv0WQKzAOc",
        "outputId": "3cd51760-9949-448b-90b8-80f1f7f902fb"
      },
      "outputs": [
        {
          "output_type": "stream",
          "name": "stdout",
          "text": [
            "20079\n"
          ]
        }
      ],
      "source": [
        "l=len(X)\n",
        "print(l)\n"
      ]
    },
    {
      "cell_type": "code",
      "execution_count": 14,
      "metadata": {
        "colab": {
          "base_uri": "https://localhost:8080/"
        },
        "id": "ST8dFDMGzAOd",
        "outputId": "31f2dc8a-2dd8-4c8e-9b70-a5c25bdfc192"
      },
      "outputs": [
        {
          "output_type": "stream",
          "name": "stdout",
          "text": [
            "       SRC_ADD  DES_ADD  PKT_ID  FROM_NODE  TO_NODE  PKT_TYPE  PKT_SIZE  FID  \\\n",
            "0         3.00    24.30  389693         21       23         3      1540    4   \n",
            "1        15.00    24.15  201196         23       24         3      1540   16   \n",
            "2        24.15    15.00   61905         23       22         0        55   16   \n",
            "3        24.90     9.00  443135         23       21         0        55   10   \n",
            "4        24.80     8.00  157335         23       21         0        55    9   \n",
            "...        ...      ...     ...        ...      ...       ...       ...  ...   \n",
            "20074    24.10     1.00  450842         23       21         0        55    2   \n",
            "20075    24.90     9.00  541205         23       21         0        55   10   \n",
            "20076     4.10    24.24  622218         21       23         1      1000   25   \n",
            "20077    24.80     8.00  250544         23       21         0        55    9   \n",
            "20078    16.20    24.58    5330         22       23         1      1500   37   \n",
            "\n",
            "       SEQ_NUMBER  NUMBER_OF_PKT  ...  PKT_DELAY_NODE     PKT_RATE  BYTE_RATE  \\\n",
            "0           11339          16091  ...         0.00000   328.240918   505490.0   \n",
            "1            6274          16092  ...         0.00000   328.205808   505437.0   \n",
            "2            1930          16092  ...         0.00000   328.206042    18051.3   \n",
            "3           12670          16085  ...         0.00000   328.064183    18043.5   \n",
            "4            4901          16088  ...         0.00000   328.113525    18046.2   \n",
            "...           ...            ...  ...             ...          ...        ...   \n",
            "20074       12865          16091  ...         0.00000   328.297902    18056.4   \n",
            "20075       15131          16085  ...         0.00000   328.064183    18043.5   \n",
            "20076        5289           6250  ...         0.00032   124.942826   124943.0   \n",
            "20077        7809          16088  ...         0.00000   328.113525    18046.2   \n",
            "20078         207           9108  ...         0.00216  1016.430848  1524650.0   \n",
            "\n",
            "       PKT_AVG_SIZE  UTILIZATION  PKT_DELAY  PKT_SEND_TIME  PKT_RESEVED_TIME  \\\n",
            "0            1540.0     0.236321    0.00000      35.519662         35.550032   \n",
            "1            1540.0     0.236337    0.00000      20.156478         20.186848   \n",
            "2              55.0     0.008441    0.00000       7.039952          7.069962   \n",
            "3              55.0     0.008437    0.00000      39.617967         39.647976   \n",
            "4              55.0     0.008438    0.00000      16.029803         16.059813   \n",
            "...             ...          ...        ...            ...               ...   \n",
            "20074          55.0     0.008440    0.00000      40.208861         40.238870   \n",
            "20075          55.0     0.008437    0.00000      47.142053         47.172062   \n",
            "20076        1000.0     0.059605    0.00064      67.312000         67.342880   \n",
            "20077          55.0     0.008438    0.00000      24.799575         24.829584   \n",
            "20078        1500.0     0.130291    0.03552       5.973714          6.009234   \n",
            "\n",
            "       FIRST_PKT_SENT  LAST_PKT_RESEVED  \n",
            "0            1.000000         50.021920  \n",
            "1            1.000000         50.030211  \n",
            "2            1.030045         50.060221  \n",
            "3            1.030058         50.060098  \n",
            "4            1.030054         50.061864  \n",
            "...               ...               ...  \n",
            "20074        1.030016         50.043427  \n",
            "20075        1.030058         50.060098  \n",
            "20076       25.000000         75.022880  \n",
            "20077        1.030054         50.061864  \n",
            "20078        1.000000          9.960767  \n",
            "\n",
            "[20079 rows x 26 columns]\n",
            "0        1\n",
            "1        1\n",
            "2        4\n",
            "3        1\n",
            "4        1\n",
            "        ..\n",
            "20074    1\n",
            "20075    1\n",
            "20076    1\n",
            "20077    1\n",
            "20078    4\n",
            "Name: PKT_CLASS, Length: 20079, dtype: int64\n"
          ]
        }
      ],
      "source": [
        "print(X)\n",
        "print(Y)"
      ]
    },
    {
      "cell_type": "code",
      "execution_count": 15,
      "metadata": {
        "id": "I7YVKHT1zAOg"
      },
      "outputs": [],
      "source": [
        "scaler=StandardScaler()\n",
        "X_train=scaler.fit_transform(X_train)\n",
        "X_test=scaler.transform(X_test)\n",
        "Y_train=np.array(Y_train)\n",
        "Y_test=np.array(Y_test)\n"
      ]
    },
    {
      "cell_type": "code",
      "execution_count": 16,
      "metadata": {
        "colab": {
          "base_uri": "https://localhost:8080/",
          "height": 75
        },
        "id": "S31CALjyzAOh",
        "outputId": "dff572f2-f1c9-44af-9259-4dd471d5bc6c"
      },
      "outputs": [
        {
          "output_type": "execute_result",
          "data": {
            "text/plain": [
              "SVC(gamma='auto', kernel='sigmoid')"
            ],
            "text/html": [
              "<style>#sk-container-id-1 {color: black;background-color: white;}#sk-container-id-1 pre{padding: 0;}#sk-container-id-1 div.sk-toggleable {background-color: white;}#sk-container-id-1 label.sk-toggleable__label {cursor: pointer;display: block;width: 100%;margin-bottom: 0;padding: 0.3em;box-sizing: border-box;text-align: center;}#sk-container-id-1 label.sk-toggleable__label-arrow:before {content: \"▸\";float: left;margin-right: 0.25em;color: #696969;}#sk-container-id-1 label.sk-toggleable__label-arrow:hover:before {color: black;}#sk-container-id-1 div.sk-estimator:hover label.sk-toggleable__label-arrow:before {color: black;}#sk-container-id-1 div.sk-toggleable__content {max-height: 0;max-width: 0;overflow: hidden;text-align: left;background-color: #f0f8ff;}#sk-container-id-1 div.sk-toggleable__content pre {margin: 0.2em;color: black;border-radius: 0.25em;background-color: #f0f8ff;}#sk-container-id-1 input.sk-toggleable__control:checked~div.sk-toggleable__content {max-height: 200px;max-width: 100%;overflow: auto;}#sk-container-id-1 input.sk-toggleable__control:checked~label.sk-toggleable__label-arrow:before {content: \"▾\";}#sk-container-id-1 div.sk-estimator input.sk-toggleable__control:checked~label.sk-toggleable__label {background-color: #d4ebff;}#sk-container-id-1 div.sk-label input.sk-toggleable__control:checked~label.sk-toggleable__label {background-color: #d4ebff;}#sk-container-id-1 input.sk-hidden--visually {border: 0;clip: rect(1px 1px 1px 1px);clip: rect(1px, 1px, 1px, 1px);height: 1px;margin: -1px;overflow: hidden;padding: 0;position: absolute;width: 1px;}#sk-container-id-1 div.sk-estimator {font-family: monospace;background-color: #f0f8ff;border: 1px dotted black;border-radius: 0.25em;box-sizing: border-box;margin-bottom: 0.5em;}#sk-container-id-1 div.sk-estimator:hover {background-color: #d4ebff;}#sk-container-id-1 div.sk-parallel-item::after {content: \"\";width: 100%;border-bottom: 1px solid gray;flex-grow: 1;}#sk-container-id-1 div.sk-label:hover label.sk-toggleable__label {background-color: #d4ebff;}#sk-container-id-1 div.sk-serial::before {content: \"\";position: absolute;border-left: 1px solid gray;box-sizing: border-box;top: 0;bottom: 0;left: 50%;z-index: 0;}#sk-container-id-1 div.sk-serial {display: flex;flex-direction: column;align-items: center;background-color: white;padding-right: 0.2em;padding-left: 0.2em;position: relative;}#sk-container-id-1 div.sk-item {position: relative;z-index: 1;}#sk-container-id-1 div.sk-parallel {display: flex;align-items: stretch;justify-content: center;background-color: white;position: relative;}#sk-container-id-1 div.sk-item::before, #sk-container-id-1 div.sk-parallel-item::before {content: \"\";position: absolute;border-left: 1px solid gray;box-sizing: border-box;top: 0;bottom: 0;left: 50%;z-index: -1;}#sk-container-id-1 div.sk-parallel-item {display: flex;flex-direction: column;z-index: 1;position: relative;background-color: white;}#sk-container-id-1 div.sk-parallel-item:first-child::after {align-self: flex-end;width: 50%;}#sk-container-id-1 div.sk-parallel-item:last-child::after {align-self: flex-start;width: 50%;}#sk-container-id-1 div.sk-parallel-item:only-child::after {width: 0;}#sk-container-id-1 div.sk-dashed-wrapped {border: 1px dashed gray;margin: 0 0.4em 0.5em 0.4em;box-sizing: border-box;padding-bottom: 0.4em;background-color: white;}#sk-container-id-1 div.sk-label label {font-family: monospace;font-weight: bold;display: inline-block;line-height: 1.2em;}#sk-container-id-1 div.sk-label-container {text-align: center;}#sk-container-id-1 div.sk-container {/* jupyter's `normalize.less` sets `[hidden] { display: none; }` but bootstrap.min.css set `[hidden] { display: none !important; }` so we also need the `!important` here to be able to override the default hidden behavior on the sphinx rendered scikit-learn.org. See: https://github.com/scikit-learn/scikit-learn/issues/21755 */display: inline-block !important;position: relative;}#sk-container-id-1 div.sk-text-repr-fallback {display: none;}</style><div id=\"sk-container-id-1\" class=\"sk-top-container\"><div class=\"sk-text-repr-fallback\"><pre>SVC(gamma=&#x27;auto&#x27;, kernel=&#x27;sigmoid&#x27;)</pre><b>In a Jupyter environment, please rerun this cell to show the HTML representation or trust the notebook. <br />On GitHub, the HTML representation is unable to render, please try loading this page with nbviewer.org.</b></div><div class=\"sk-container\" hidden><div class=\"sk-item\"><div class=\"sk-estimator sk-toggleable\"><input class=\"sk-toggleable__control sk-hidden--visually\" id=\"sk-estimator-id-1\" type=\"checkbox\" checked><label for=\"sk-estimator-id-1\" class=\"sk-toggleable__label sk-toggleable__label-arrow\">SVC</label><div class=\"sk-toggleable__content\"><pre>SVC(gamma=&#x27;auto&#x27;, kernel=&#x27;sigmoid&#x27;)</pre></div></div></div></div></div>"
            ]
          },
          "metadata": {},
          "execution_count": 16
        }
      ],
      "source": [
        "model = SVC(kernel='sigmoid', gamma='auto')\n",
        "model.fit(X_train, Y_train)\n",
        "\n"
      ]
    },
    {
      "cell_type": "code",
      "execution_count": 17,
      "metadata": {
        "id": "OInnpsFwzAOj"
      },
      "outputs": [],
      "source": [
        "Y_pred=model.predict(X_test)\n"
      ]
    },
    {
      "cell_type": "code",
      "execution_count": 18,
      "metadata": {
        "colab": {
          "base_uri": "https://localhost:8080/"
        },
        "id": "JFuAJ7bJzAOk",
        "outputId": "aedb8a57-3bd9-4e7a-e48c-a40cbaeb592c"
      },
      "outputs": [
        {
          "output_type": "stream",
          "name": "stdout",
          "text": [
            "96.81274900398407 %\n"
          ]
        }
      ],
      "source": [
        "print((accuracy_score(Y_pred,Y_test))*100,\"%\")\n"
      ]
    },
    {
      "cell_type": "code",
      "execution_count": 19,
      "metadata": {
        "colab": {
          "base_uri": "https://localhost:8080/",
          "height": 75
        },
        "id": "1YMfBNSDzAOk",
        "outputId": "cf34589f-e231-4a01-b997-774fb54a41f3"
      },
      "outputs": [
        {
          "output_type": "execute_result",
          "data": {
            "text/plain": [
              "KNeighborsClassifier(n_neighbors=1)"
            ],
            "text/html": [
              "<style>#sk-container-id-2 {color: black;background-color: white;}#sk-container-id-2 pre{padding: 0;}#sk-container-id-2 div.sk-toggleable {background-color: white;}#sk-container-id-2 label.sk-toggleable__label {cursor: pointer;display: block;width: 100%;margin-bottom: 0;padding: 0.3em;box-sizing: border-box;text-align: center;}#sk-container-id-2 label.sk-toggleable__label-arrow:before {content: \"▸\";float: left;margin-right: 0.25em;color: #696969;}#sk-container-id-2 label.sk-toggleable__label-arrow:hover:before {color: black;}#sk-container-id-2 div.sk-estimator:hover label.sk-toggleable__label-arrow:before {color: black;}#sk-container-id-2 div.sk-toggleable__content {max-height: 0;max-width: 0;overflow: hidden;text-align: left;background-color: #f0f8ff;}#sk-container-id-2 div.sk-toggleable__content pre {margin: 0.2em;color: black;border-radius: 0.25em;background-color: #f0f8ff;}#sk-container-id-2 input.sk-toggleable__control:checked~div.sk-toggleable__content {max-height: 200px;max-width: 100%;overflow: auto;}#sk-container-id-2 input.sk-toggleable__control:checked~label.sk-toggleable__label-arrow:before {content: \"▾\";}#sk-container-id-2 div.sk-estimator input.sk-toggleable__control:checked~label.sk-toggleable__label {background-color: #d4ebff;}#sk-container-id-2 div.sk-label input.sk-toggleable__control:checked~label.sk-toggleable__label {background-color: #d4ebff;}#sk-container-id-2 input.sk-hidden--visually {border: 0;clip: rect(1px 1px 1px 1px);clip: rect(1px, 1px, 1px, 1px);height: 1px;margin: -1px;overflow: hidden;padding: 0;position: absolute;width: 1px;}#sk-container-id-2 div.sk-estimator {font-family: monospace;background-color: #f0f8ff;border: 1px dotted black;border-radius: 0.25em;box-sizing: border-box;margin-bottom: 0.5em;}#sk-container-id-2 div.sk-estimator:hover {background-color: #d4ebff;}#sk-container-id-2 div.sk-parallel-item::after {content: \"\";width: 100%;border-bottom: 1px solid gray;flex-grow: 1;}#sk-container-id-2 div.sk-label:hover label.sk-toggleable__label {background-color: #d4ebff;}#sk-container-id-2 div.sk-serial::before {content: \"\";position: absolute;border-left: 1px solid gray;box-sizing: border-box;top: 0;bottom: 0;left: 50%;z-index: 0;}#sk-container-id-2 div.sk-serial {display: flex;flex-direction: column;align-items: center;background-color: white;padding-right: 0.2em;padding-left: 0.2em;position: relative;}#sk-container-id-2 div.sk-item {position: relative;z-index: 1;}#sk-container-id-2 div.sk-parallel {display: flex;align-items: stretch;justify-content: center;background-color: white;position: relative;}#sk-container-id-2 div.sk-item::before, #sk-container-id-2 div.sk-parallel-item::before {content: \"\";position: absolute;border-left: 1px solid gray;box-sizing: border-box;top: 0;bottom: 0;left: 50%;z-index: -1;}#sk-container-id-2 div.sk-parallel-item {display: flex;flex-direction: column;z-index: 1;position: relative;background-color: white;}#sk-container-id-2 div.sk-parallel-item:first-child::after {align-self: flex-end;width: 50%;}#sk-container-id-2 div.sk-parallel-item:last-child::after {align-self: flex-start;width: 50%;}#sk-container-id-2 div.sk-parallel-item:only-child::after {width: 0;}#sk-container-id-2 div.sk-dashed-wrapped {border: 1px dashed gray;margin: 0 0.4em 0.5em 0.4em;box-sizing: border-box;padding-bottom: 0.4em;background-color: white;}#sk-container-id-2 div.sk-label label {font-family: monospace;font-weight: bold;display: inline-block;line-height: 1.2em;}#sk-container-id-2 div.sk-label-container {text-align: center;}#sk-container-id-2 div.sk-container {/* jupyter's `normalize.less` sets `[hidden] { display: none; }` but bootstrap.min.css set `[hidden] { display: none !important; }` so we also need the `!important` here to be able to override the default hidden behavior on the sphinx rendered scikit-learn.org. See: https://github.com/scikit-learn/scikit-learn/issues/21755 */display: inline-block !important;position: relative;}#sk-container-id-2 div.sk-text-repr-fallback {display: none;}</style><div id=\"sk-container-id-2\" class=\"sk-top-container\"><div class=\"sk-text-repr-fallback\"><pre>KNeighborsClassifier(n_neighbors=1)</pre><b>In a Jupyter environment, please rerun this cell to show the HTML representation or trust the notebook. <br />On GitHub, the HTML representation is unable to render, please try loading this page with nbviewer.org.</b></div><div class=\"sk-container\" hidden><div class=\"sk-item\"><div class=\"sk-estimator sk-toggleable\"><input class=\"sk-toggleable__control sk-hidden--visually\" id=\"sk-estimator-id-2\" type=\"checkbox\" checked><label for=\"sk-estimator-id-2\" class=\"sk-toggleable__label sk-toggleable__label-arrow\">KNeighborsClassifier</label><div class=\"sk-toggleable__content\"><pre>KNeighborsClassifier(n_neighbors=1)</pre></div></div></div></div></div>"
            ]
          },
          "metadata": {},
          "execution_count": 19
        }
      ],
      "source": [
        "model1 = KNeighborsClassifier(n_neighbors=1)\n",
        "model1.fit(X_train,Y_train)"
      ]
    },
    {
      "cell_type": "code",
      "execution_count": 20,
      "metadata": {
        "id": "xQ9gJI0NzAOl"
      },
      "outputs": [],
      "source": [
        "Y_pred1=model1.predict(X_test)"
      ]
    },
    {
      "cell_type": "code",
      "execution_count": 21,
      "metadata": {
        "colab": {
          "base_uri": "https://localhost:8080/"
        },
        "id": "Bb9OduX7zAOl",
        "outputId": "b2dc7dd1-0e0f-429f-d227-773e3ad810fe"
      },
      "outputs": [
        {
          "output_type": "stream",
          "name": "stdout",
          "text": [
            "96.88745019920319 %\n"
          ]
        }
      ],
      "source": [
        "print((accuracy_score(Y_pred1,Y_test))*100,\"%\")"
      ]
    },
    {
      "cell_type": "code",
      "execution_count": 22,
      "metadata": {
        "colab": {
          "base_uri": "https://localhost:8080/",
          "height": 75
        },
        "id": "EvoDykV7zAOm",
        "outputId": "706ac181-2aaa-4351-c0f3-4311a773e5f6"
      },
      "outputs": [
        {
          "output_type": "execute_result",
          "data": {
            "text/plain": [
              "GaussianNB()"
            ],
            "text/html": [
              "<style>#sk-container-id-3 {color: black;background-color: white;}#sk-container-id-3 pre{padding: 0;}#sk-container-id-3 div.sk-toggleable {background-color: white;}#sk-container-id-3 label.sk-toggleable__label {cursor: pointer;display: block;width: 100%;margin-bottom: 0;padding: 0.3em;box-sizing: border-box;text-align: center;}#sk-container-id-3 label.sk-toggleable__label-arrow:before {content: \"▸\";float: left;margin-right: 0.25em;color: #696969;}#sk-container-id-3 label.sk-toggleable__label-arrow:hover:before {color: black;}#sk-container-id-3 div.sk-estimator:hover label.sk-toggleable__label-arrow:before {color: black;}#sk-container-id-3 div.sk-toggleable__content {max-height: 0;max-width: 0;overflow: hidden;text-align: left;background-color: #f0f8ff;}#sk-container-id-3 div.sk-toggleable__content pre {margin: 0.2em;color: black;border-radius: 0.25em;background-color: #f0f8ff;}#sk-container-id-3 input.sk-toggleable__control:checked~div.sk-toggleable__content {max-height: 200px;max-width: 100%;overflow: auto;}#sk-container-id-3 input.sk-toggleable__control:checked~label.sk-toggleable__label-arrow:before {content: \"▾\";}#sk-container-id-3 div.sk-estimator input.sk-toggleable__control:checked~label.sk-toggleable__label {background-color: #d4ebff;}#sk-container-id-3 div.sk-label input.sk-toggleable__control:checked~label.sk-toggleable__label {background-color: #d4ebff;}#sk-container-id-3 input.sk-hidden--visually {border: 0;clip: rect(1px 1px 1px 1px);clip: rect(1px, 1px, 1px, 1px);height: 1px;margin: -1px;overflow: hidden;padding: 0;position: absolute;width: 1px;}#sk-container-id-3 div.sk-estimator {font-family: monospace;background-color: #f0f8ff;border: 1px dotted black;border-radius: 0.25em;box-sizing: border-box;margin-bottom: 0.5em;}#sk-container-id-3 div.sk-estimator:hover {background-color: #d4ebff;}#sk-container-id-3 div.sk-parallel-item::after {content: \"\";width: 100%;border-bottom: 1px solid gray;flex-grow: 1;}#sk-container-id-3 div.sk-label:hover label.sk-toggleable__label {background-color: #d4ebff;}#sk-container-id-3 div.sk-serial::before {content: \"\";position: absolute;border-left: 1px solid gray;box-sizing: border-box;top: 0;bottom: 0;left: 50%;z-index: 0;}#sk-container-id-3 div.sk-serial {display: flex;flex-direction: column;align-items: center;background-color: white;padding-right: 0.2em;padding-left: 0.2em;position: relative;}#sk-container-id-3 div.sk-item {position: relative;z-index: 1;}#sk-container-id-3 div.sk-parallel {display: flex;align-items: stretch;justify-content: center;background-color: white;position: relative;}#sk-container-id-3 div.sk-item::before, #sk-container-id-3 div.sk-parallel-item::before {content: \"\";position: absolute;border-left: 1px solid gray;box-sizing: border-box;top: 0;bottom: 0;left: 50%;z-index: -1;}#sk-container-id-3 div.sk-parallel-item {display: flex;flex-direction: column;z-index: 1;position: relative;background-color: white;}#sk-container-id-3 div.sk-parallel-item:first-child::after {align-self: flex-end;width: 50%;}#sk-container-id-3 div.sk-parallel-item:last-child::after {align-self: flex-start;width: 50%;}#sk-container-id-3 div.sk-parallel-item:only-child::after {width: 0;}#sk-container-id-3 div.sk-dashed-wrapped {border: 1px dashed gray;margin: 0 0.4em 0.5em 0.4em;box-sizing: border-box;padding-bottom: 0.4em;background-color: white;}#sk-container-id-3 div.sk-label label {font-family: monospace;font-weight: bold;display: inline-block;line-height: 1.2em;}#sk-container-id-3 div.sk-label-container {text-align: center;}#sk-container-id-3 div.sk-container {/* jupyter's `normalize.less` sets `[hidden] { display: none; }` but bootstrap.min.css set `[hidden] { display: none !important; }` so we also need the `!important` here to be able to override the default hidden behavior on the sphinx rendered scikit-learn.org. See: https://github.com/scikit-learn/scikit-learn/issues/21755 */display: inline-block !important;position: relative;}#sk-container-id-3 div.sk-text-repr-fallback {display: none;}</style><div id=\"sk-container-id-3\" class=\"sk-top-container\"><div class=\"sk-text-repr-fallback\"><pre>GaussianNB()</pre><b>In a Jupyter environment, please rerun this cell to show the HTML representation or trust the notebook. <br />On GitHub, the HTML representation is unable to render, please try loading this page with nbviewer.org.</b></div><div class=\"sk-container\" hidden><div class=\"sk-item\"><div class=\"sk-estimator sk-toggleable\"><input class=\"sk-toggleable__control sk-hidden--visually\" id=\"sk-estimator-id-3\" type=\"checkbox\" checked><label for=\"sk-estimator-id-3\" class=\"sk-toggleable__label sk-toggleable__label-arrow\">GaussianNB</label><div class=\"sk-toggleable__content\"><pre>GaussianNB()</pre></div></div></div></div></div>"
            ]
          },
          "metadata": {},
          "execution_count": 22
        }
      ],
      "source": [
        "model2 = GaussianNB()\n",
        "model2.fit(X_train,Y_train,sample_weight=None)\n"
      ]
    },
    {
      "cell_type": "code",
      "execution_count": 23,
      "metadata": {
        "id": "kRBTbqvTzAOm"
      },
      "outputs": [],
      "source": [
        "Y_pred2=model2.predict(X_test)"
      ]
    },
    {
      "cell_type": "code",
      "execution_count": 24,
      "metadata": {
        "colab": {
          "base_uri": "https://localhost:8080/"
        },
        "id": "2KA0JpkszAOm",
        "outputId": "f5666bf1-4a73-4bd2-9945-6b2e020939cc"
      },
      "outputs": [
        {
          "output_type": "stream",
          "name": "stdout",
          "text": [
            "96.73804780876493 %\n"
          ]
        }
      ],
      "source": [
        "print((accuracy_score(Y_pred2,Y_test))*100,\"%\")"
      ]
    },
    {
      "cell_type": "code",
      "execution_count": 25,
      "metadata": {
        "id": "fp30k9FezAOn"
      },
      "outputs": [],
      "source": [
        "train_x,val_x,train_y,val_y=train_test_split(X_train,Y_train,stratify=Y_train,test_size=0.2,random_state=0)\n",
        "\n"
      ]
    },
    {
      "cell_type": "code",
      "execution_count": 26,
      "metadata": {
        "colab": {
          "base_uri": "https://localhost:8080/"
        },
        "id": "Nh4h5k6pzAOn",
        "outputId": "b47de670-8f88-4925-b060-36c0f612389d"
      },
      "outputs": [
        {
          "output_type": "stream",
          "name": "stdout",
          "text": [
            "(16063, 26) (4016, 26)\n"
          ]
        }
      ],
      "source": [
        "print(X_train.shape,X_test.shape)\n",
        "\n"
      ]
    },
    {
      "cell_type": "code",
      "execution_count": 27,
      "metadata": {
        "id": "P_X2h0RkzAOn"
      },
      "outputs": [],
      "source": [
        "columns=['SRC_ADD','DES_ADD','PKT_ID','FROM_NODE','TO_NODE','PKT_TYPE','PKT_SIZE','FLAGS','FID','SEQ_NUMBER','NUMBER_OF_PKT','NUMBER_OF_BYTE','NODE_NAME_FROM','NODE_NAME_TO',' PKT_IN','PKT_OUT','PKT_R','PKT_DELAY_NODE','PKT_RATE','BYTE_RATE','PKT_AVG_SIZE','UTILIZATION','PKT_DELAY','PKT_SEND_TIME','PKT_RESEVED_TIME','FIRST_PKT_SENT',' LAST_PKT_RESEVED','PKT_CLASS']\n"
      ]
    },
    {
      "cell_type": "code",
      "execution_count": 28,
      "metadata": {
        "id": "ES6ARaEezAOn"
      },
      "outputs": [],
      "source": [
        "model=SVC(kernel='sigmoid',gamma='auto')\n",
        "model.fit(X_train,Y_train)\n",
        "y_val_pred=model.predict(val_x)\n",
        "y_val_pred=pd.DataFrame(y_val_pred)\n",
        "y_test_pred=model.predict(X_test)\n",
        "y_test_pred=pd.DataFrame(y_test_pred)\n"
      ]
    },
    {
      "cell_type": "code",
      "execution_count": 29,
      "metadata": {
        "id": "BvP2N9GkzAOo"
      },
      "outputs": [],
      "source": [
        "model1 = KNeighborsClassifier(n_neighbors=5)\n",
        "model1.fit(X_train,Y_train)\n",
        "y_val_pred1=model1.predict(val_x)\n",
        "y_val_pred1=pd.DataFrame(y_val_pred1)\n",
        "y_test_pred1=model1.predict(X_test)\n",
        "y_test_pred1=pd.DataFrame(y_test_pred1)\n",
        "\n"
      ]
    },
    {
      "cell_type": "code",
      "execution_count": 30,
      "metadata": {
        "id": "3GX2LZXezAOo"
      },
      "outputs": [],
      "source": [
        "model2 = GaussianNB()\n",
        "model2.fit(X_train,Y_train)\n",
        "y_val_pred2=model2.predict(val_x)\n",
        "y_val_pred2=pd.DataFrame(y_val_pred2)\n",
        "y_test_pred2=model2.predict(X_test)\n",
        "y_test_pred2=pd.DataFrame(y_test_pred2)\n",
        "\n"
      ]
    },
    {
      "cell_type": "code",
      "execution_count": 31,
      "metadata": {
        "id": "xekmqxNMzAOo"
      },
      "outputs": [],
      "source": [
        "val_input=pd.concat([pd.DataFrame(val_x),y_val_pred,y_val_pred1,y_val_pred2],axis=1)\n",
        "test_input=pd.concat([pd.DataFrame(X_test),y_test_pred,y_test_pred1,y_test_pred2],axis=1)\n",
        "\n"
      ]
    },
    {
      "cell_type": "code",
      "execution_count": 32,
      "metadata": {
        "colab": {
          "base_uri": "https://localhost:8080/",
          "height": 75
        },
        "id": "ZDRbyqggzAOo",
        "outputId": "13d813db-cbbb-47cd-df95-47f6eb3ac90b"
      },
      "outputs": [
        {
          "output_type": "execute_result",
          "data": {
            "text/plain": [
              "RandomForestClassifier(n_estimators=500)"
            ],
            "text/html": [
              "<style>#sk-container-id-4 {color: black;background-color: white;}#sk-container-id-4 pre{padding: 0;}#sk-container-id-4 div.sk-toggleable {background-color: white;}#sk-container-id-4 label.sk-toggleable__label {cursor: pointer;display: block;width: 100%;margin-bottom: 0;padding: 0.3em;box-sizing: border-box;text-align: center;}#sk-container-id-4 label.sk-toggleable__label-arrow:before {content: \"▸\";float: left;margin-right: 0.25em;color: #696969;}#sk-container-id-4 label.sk-toggleable__label-arrow:hover:before {color: black;}#sk-container-id-4 div.sk-estimator:hover label.sk-toggleable__label-arrow:before {color: black;}#sk-container-id-4 div.sk-toggleable__content {max-height: 0;max-width: 0;overflow: hidden;text-align: left;background-color: #f0f8ff;}#sk-container-id-4 div.sk-toggleable__content pre {margin: 0.2em;color: black;border-radius: 0.25em;background-color: #f0f8ff;}#sk-container-id-4 input.sk-toggleable__control:checked~div.sk-toggleable__content {max-height: 200px;max-width: 100%;overflow: auto;}#sk-container-id-4 input.sk-toggleable__control:checked~label.sk-toggleable__label-arrow:before {content: \"▾\";}#sk-container-id-4 div.sk-estimator input.sk-toggleable__control:checked~label.sk-toggleable__label {background-color: #d4ebff;}#sk-container-id-4 div.sk-label input.sk-toggleable__control:checked~label.sk-toggleable__label {background-color: #d4ebff;}#sk-container-id-4 input.sk-hidden--visually {border: 0;clip: rect(1px 1px 1px 1px);clip: rect(1px, 1px, 1px, 1px);height: 1px;margin: -1px;overflow: hidden;padding: 0;position: absolute;width: 1px;}#sk-container-id-4 div.sk-estimator {font-family: monospace;background-color: #f0f8ff;border: 1px dotted black;border-radius: 0.25em;box-sizing: border-box;margin-bottom: 0.5em;}#sk-container-id-4 div.sk-estimator:hover {background-color: #d4ebff;}#sk-container-id-4 div.sk-parallel-item::after {content: \"\";width: 100%;border-bottom: 1px solid gray;flex-grow: 1;}#sk-container-id-4 div.sk-label:hover label.sk-toggleable__label {background-color: #d4ebff;}#sk-container-id-4 div.sk-serial::before {content: \"\";position: absolute;border-left: 1px solid gray;box-sizing: border-box;top: 0;bottom: 0;left: 50%;z-index: 0;}#sk-container-id-4 div.sk-serial {display: flex;flex-direction: column;align-items: center;background-color: white;padding-right: 0.2em;padding-left: 0.2em;position: relative;}#sk-container-id-4 div.sk-item {position: relative;z-index: 1;}#sk-container-id-4 div.sk-parallel {display: flex;align-items: stretch;justify-content: center;background-color: white;position: relative;}#sk-container-id-4 div.sk-item::before, #sk-container-id-4 div.sk-parallel-item::before {content: \"\";position: absolute;border-left: 1px solid gray;box-sizing: border-box;top: 0;bottom: 0;left: 50%;z-index: -1;}#sk-container-id-4 div.sk-parallel-item {display: flex;flex-direction: column;z-index: 1;position: relative;background-color: white;}#sk-container-id-4 div.sk-parallel-item:first-child::after {align-self: flex-end;width: 50%;}#sk-container-id-4 div.sk-parallel-item:last-child::after {align-self: flex-start;width: 50%;}#sk-container-id-4 div.sk-parallel-item:only-child::after {width: 0;}#sk-container-id-4 div.sk-dashed-wrapped {border: 1px dashed gray;margin: 0 0.4em 0.5em 0.4em;box-sizing: border-box;padding-bottom: 0.4em;background-color: white;}#sk-container-id-4 div.sk-label label {font-family: monospace;font-weight: bold;display: inline-block;line-height: 1.2em;}#sk-container-id-4 div.sk-label-container {text-align: center;}#sk-container-id-4 div.sk-container {/* jupyter's `normalize.less` sets `[hidden] { display: none; }` but bootstrap.min.css set `[hidden] { display: none !important; }` so we also need the `!important` here to be able to override the default hidden behavior on the sphinx rendered scikit-learn.org. See: https://github.com/scikit-learn/scikit-learn/issues/21755 */display: inline-block !important;position: relative;}#sk-container-id-4 div.sk-text-repr-fallback {display: none;}</style><div id=\"sk-container-id-4\" class=\"sk-top-container\"><div class=\"sk-text-repr-fallback\"><pre>RandomForestClassifier(n_estimators=500)</pre><b>In a Jupyter environment, please rerun this cell to show the HTML representation or trust the notebook. <br />On GitHub, the HTML representation is unable to render, please try loading this page with nbviewer.org.</b></div><div class=\"sk-container\" hidden><div class=\"sk-item\"><div class=\"sk-estimator sk-toggleable\"><input class=\"sk-toggleable__control sk-hidden--visually\" id=\"sk-estimator-id-4\" type=\"checkbox\" checked><label for=\"sk-estimator-id-4\" class=\"sk-toggleable__label sk-toggleable__label-arrow\">RandomForestClassifier</label><div class=\"sk-toggleable__content\"><pre>RandomForestClassifier(n_estimators=500)</pre></div></div></div></div></div>"
            ]
          },
          "metadata": {},
          "execution_count": 32
        }
      ],
      "source": [
        "model3=RandomForestClassifier(n_estimators=500)\n",
        "model3.fit(val_input,val_y)\n",
        "\n",
        "\n"
      ]
    },
    {
      "cell_type": "code",
      "execution_count": 33,
      "metadata": {
        "colab": {
          "base_uri": "https://localhost:8080/"
        },
        "id": "nqz1_0rUzAOp",
        "outputId": "c86a21a4-a419-487e-dd51-60de4c77bb17"
      },
      "outputs": [
        {
          "output_type": "stream",
          "name": "stdout",
          "text": [
            "98.28187250996015 %\n"
          ]
        }
      ],
      "source": [
        "print(model3.score(test_input,Y_test)*100,\"%\")\n",
        "\n"
      ]
    },
    {
      "cell_type": "code",
      "source": [],
      "metadata": {
        "id": "q_sCnwutPVdl"
      },
      "execution_count": 33,
      "outputs": []
    }
  ],
  "metadata": {
    "colab": {
      "provenance": []
    },
    "kernelspec": {
      "display_name": "Python 3",
      "language": "python",
      "name": "python3"
    },
    "language_info": {
      "codemirror_mode": {
        "name": "ipython",
        "version": 3
      },
      "file_extension": ".py",
      "mimetype": "text/x-python",
      "name": "python",
      "nbconvert_exporter": "python",
      "pygments_lexer": "ipython3",
      "version": "3.9.6"
    },
    "orig_nbformat": 4,
    "vscode": {
      "interpreter": {
        "hash": "b247ce12b8c619a8835a63c4acb3cfb073d5fb0accca74ae59d1a34b1bea2a5a"
      }
    }
  },
  "nbformat": 4,
  "nbformat_minor": 0
}